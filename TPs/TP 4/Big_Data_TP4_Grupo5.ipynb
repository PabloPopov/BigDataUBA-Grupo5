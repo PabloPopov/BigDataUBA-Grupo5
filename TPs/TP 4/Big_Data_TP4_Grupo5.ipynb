{
 "cells": [
  {
   "cell_type": "code",
   "execution_count": 1,
   "id": "55abc153-4ba0-49c5-85de-bce0cf7c3fe8",
   "metadata": {},
   "outputs": [],
   "source": [
    "import numpy as np\n",
    "import pandas as pd\n",
    "\n",
    "from scipy import stats\n",
    "from sklearn.model_selection import train_test_split\n",
    "from sklearn.linear_model import LinearRegression\n",
    "from sklearn.preprocessing import PolynomialFeatures \n",
    "from sklearn.model_selection import KFold\n",
    "from sklearn.preprocessing import PolynomialFeatures\n",
    "from sklearn.metrics import r2_score, mean_squared_error, mean_absolute_error, accuracy_score, recall_score\n",
    "import statsmodels.api as sm\n",
    "\n"
   ]
  },
  {
   "cell_type": "code",
   "execution_count": 2,
   "id": "ca7684be-bd8f-42ab-8aee-9d1a1a760e49",
   "metadata": {},
   "outputs": [],
   "source": [
    "# IMPORTO LA LIBRERIA Y LOS ARCHIVOS (TADEO)\n",
    "\n",
    "EPH_T1=pd.read_excel(\"/Users/tadeo/Downloads/BASE NORMALIZADA.xlsx\")"
   ]
  },
  {
   "cell_type": "code",
   "execution_count": 3,
   "id": "fbcead9d-394b-412d-baf7-26e7ad4ab534",
   "metadata": {},
   "outputs": [],
   "source": [
    "# IMPORTO LA LIBRERIA Y LOS ARCHIVOS (PABLO)\n",
    "\n",
    "EPH_T1=pd.read_excel(\"C:/Users/Computador/Desktop/Facultad/Big Data/TP4/BASE NORMALIZADA.xlsx\")"
   ]
  },
  {
   "cell_type": "code",
   "execution_count": null,
   "id": "6b939bd4-4fc9-4be1-8e46-d0a939170f6c",
   "metadata": {},
   "outputs": [],
   "source": [
    "# IMPORTO LA LIBRERIA Y LOS ARCHIVOS (LEANDRO)\n",
    "\n",
    "EPH_T1=pd.read_excel(\"/Users/HP/Desktop/Bases de datos tp4/BASE NORMALIZADA.xlsx\")"
   ]
  },
  {
   "cell_type": "markdown",
   "id": "9e90882f-67f6-45ac-9e40-482bd380cd8c",
   "metadata": {},
   "source": [
    "# Afino las bases de datos a utilizar"
   ]
  },
  {
   "cell_type": "code",
   "execution_count": 5,
   "id": "bd86a5b6-2817-46dd-8406-0f18220e2f3f",
   "metadata": {},
   "outputs": [],
   "source": [
    "EPH_T1.drop('Unnamed: 0', axis=1, inplace=True)"
   ]
  },
  {
   "cell_type": "code",
   "execution_count": 7,
   "id": "a63ab60f-5bf2-4897-96dc-a1049077c04b",
   "metadata": {},
   "outputs": [],
   "source": [
    "EPH_T1=EPH_T1[EPH_T1['REGION']==43]"
   ]
  },
  {
   "cell_type": "code",
   "execution_count": 9,
   "id": "89fdf260-ae79-460f-805b-940c82f74dda",
   "metadata": {},
   "outputs": [
    {
     "name": "stderr",
     "output_type": "stream",
     "text": [
      "C:\\Users\\Computador\\AppData\\Local\\Temp\\ipykernel_5336\\3369253291.py:1: FutureWarning: A value is trying to be set on a copy of a DataFrame or Series through chained assignment using an inplace method.\n",
      "The behavior will change in pandas 3.0. This inplace method will never work because the intermediate object on which we are setting values always behaves as a copy.\n",
      "\n",
      "For example, when doing 'df[col].method(value, inplace=True)', try using 'df.method({col: value}, inplace=True)' or df[col] = df[col].method(value) instead, to perform the operation inplace on the original object.\n",
      "\n",
      "\n",
      "  EPH_T1[\"ESTADO\"].fillna(0, inplace=True)\n",
      "C:\\Users\\Computador\\AppData\\Local\\Temp\\ipykernel_5336\\3369253291.py:8: SettingWithCopyWarning: \n",
      "A value is trying to be set on a copy of a slice from a DataFrame.\n",
      "Try using .loc[row_indexer,col_indexer] = value instead\n",
      "\n",
      "See the caveats in the documentation: https://pandas.pydata.org/pandas-docs/stable/user_guide/indexing.html#returning-a-view-versus-a-copy\n",
      "  respondieron[\"desocupado\"] = respondieron[\"ESTADO\"].apply(lambda x: 1 if x == 2 else 0)\n",
      "C:\\Users\\Computador\\AppData\\Local\\Temp\\ipykernel_5336\\3369253291.py:9: SettingWithCopyWarning: \n",
      "A value is trying to be set on a copy of a slice from a DataFrame.\n",
      "Try using .loc[row_indexer,col_indexer] = value instead\n",
      "\n",
      "See the caveats in the documentation: https://pandas.pydata.org/pandas-docs/stable/user_guide/indexing.html#returning-a-view-versus-a-copy\n",
      "  norespondieron[\"desocupado\"] = norespondieron[\"ESTADO\"].apply(lambda x: 1 if x == 2 else 0)\n",
      "C:\\Users\\Computador\\AppData\\Local\\Temp\\ipykernel_5336\\3369253291.py:10: SettingWithCopyWarning: \n",
      "A value is trying to be set on a copy of a slice from a DataFrame.\n",
      "Try using .loc[row_indexer,col_indexer] = value instead\n",
      "\n",
      "See the caveats in the documentation: https://pandas.pydata.org/pandas-docs/stable/user_guide/indexing.html#returning-a-view-versus-a-copy\n",
      "  respondieron[\"PET\"] = respondieron[\"CH06\"].apply(lambda x: 1 if 15 <= x <= 65 else 0)\n",
      "C:\\Users\\Computador\\AppData\\Local\\Temp\\ipykernel_5336\\3369253291.py:11: SettingWithCopyWarning: \n",
      "A value is trying to be set on a copy of a slice from a DataFrame.\n",
      "Try using .loc[row_indexer,col_indexer] = value instead\n",
      "\n",
      "See the caveats in the documentation: https://pandas.pydata.org/pandas-docs/stable/user_guide/indexing.html#returning-a-view-versus-a-copy\n",
      "  respondieron[\"PEA\"] = respondieron[\"ESTADO\"].apply(lambda x: 1 if x in [1, 2] else 0)\n"
     ]
    }
   ],
   "source": [
    "EPH_T1[\"ESTADO\"].fillna(0, inplace=True)\n",
    "\n",
    "\n",
    "norespondieron=EPH_T1[EPH_T1['ESTADO'] == 0]\n",
    "\n",
    "\n",
    "respondieron=EPH_T1[EPH_T1['ESTADO'] != 0]\n",
    "respondieron[\"desocupado\"] = respondieron[\"ESTADO\"].apply(lambda x: 1 if x == 2 else 0)\n",
    "norespondieron[\"desocupado\"] = norespondieron[\"ESTADO\"].apply(lambda x: 1 if x == 2 else 0)\n",
    "respondieron[\"PET\"] = respondieron[\"CH06\"].apply(lambda x: 1 if 15 <= x <= 65 else 0)\n",
    "respondieron[\"PEA\"] = respondieron[\"ESTADO\"].apply(lambda x: 1 if x in [1, 2] else 0)"
   ]
  },
  {
   "cell_type": "markdown",
   "id": "39d9e65f-3234-4503-9bd7-90fd7b21c6b3",
   "metadata": {},
   "source": [
    "# A) Enfoque de validación"
   ]
  },
  {
   "cell_type": "code",
   "execution_count": 12,
   "id": "01bc864c-a702-4655-9148-3ffa11a33880",
   "metadata": {},
   "outputs": [],
   "source": [
    "nor_04=norespondieron[norespondieron['ANO4']==2004]\n",
    "nor_24=norespondieron[norespondieron['ANO4']==2024]\n",
    "resp_04=respondieron[respondieron['ANO4']==2004]\n",
    "resp_24=respondieron[respondieron['ANO4']==2024]"
   ]
  },
  {
   "cell_type": "code",
   "execution_count": 14,
   "id": "ffbdb623-ccab-411e-9c39-8b0ebb26b353",
   "metadata": {},
   "outputs": [],
   "source": [
    "x04=resp_04.copy().drop(['desocupado', 'ESTADO'], axis=1)\n",
    "y04=resp_04['desocupado']\n",
    "\n",
    "# Split de testeo para 2004\n",
    "X04_train, X04_test, y04_train, y04_test = train_test_split(x04, y04, test_size=0.3, random_state=444)\n",
    "\n",
    "x24=resp_24.copy().drop(['desocupado','ESTADO'], axis=1)\n",
    "y24=resp_24['desocupado']\n",
    "\n",
    "# Split de testeo para 2024\n",
    "X24_train, X24_test, y24_train, y24_test = train_test_split(x24, y24, test_size=0.3, random_state=444)\n",
    "\n"
   ]
  },
  {
   "cell_type": "code",
   "execution_count": 24,
   "id": "dd85e2a8-3c97-4c95-8ff0-8c98a116328f",
   "metadata": {},
   "outputs": [],
   "source": [
    "X04_train_num = X04_train.select_dtypes(include='number')\n",
    "X04_test_num = X04_test.select_dtypes(include='number')\n",
    "X24_train_num = X24_train.select_dtypes(include='number')\n",
    "X24_test_num = X24_test.select_dtypes(include='number')"
   ]
  },
  {
   "cell_type": "code",
   "execution_count": 26,
   "id": "415ad862-0a07-4f28-a2d4-fa5b95f16ef9",
   "metadata": {},
   "outputs": [
    {
     "ename": "NameError",
     "evalue": "name 'col' is not defined",
     "output_type": "error",
     "traceback": [
      "\u001b[1;31m---------------------------------------------------------------------------\u001b[0m",
      "\u001b[1;31mNameError\u001b[0m                                 Traceback (most recent call last)",
      "Cell \u001b[1;32mIn[26], line 2\u001b[0m\n\u001b[0;32m      1\u001b[0m t_stat, p_val \u001b[38;5;241m=\u001b[39m stats\u001b[38;5;241m.\u001b[39mttest_ind(\n\u001b[1;32m----> 2\u001b[0m     X04_train_num[col]\u001b[38;5;241m.\u001b[39mdropna(), \n\u001b[0;32m      3\u001b[0m     X04_test_num[col]\u001b[38;5;241m.\u001b[39mdropna(), \n\u001b[0;32m      4\u001b[0m     equal_var\u001b[38;5;241m=\u001b[39m\u001b[38;5;28;01mFalse\u001b[39;00m\n\u001b[0;32m      5\u001b[0m )\n",
      "\u001b[1;31mNameError\u001b[0m: name 'col' is not defined"
     ]
    }
   ],
   "source": [
    "t_stat, p_val = stats.ttest_ind(\n",
    "    X04_train_num[col].dropna(), \n",
    "    X04_test_num[col].dropna(), \n",
    "    equal_var=False\n",
    ")"
   ]
  },
  {
   "cell_type": "code",
   "execution_count": 28,
   "id": "252abf3f-938b-4938-b0c1-5548872e36c4",
   "metadata": {},
   "outputs": [
    {
     "name": "stderr",
     "output_type": "stream",
     "text": [
      "C:\\Users\\Computador\\anaconda3\\Lib\\site-packages\\scipy\\stats\\_axis_nan_policy.py:523: RuntimeWarning: Precision loss occurred in moment calculation due to catastrophic cancellation. This occurs when the data are nearly identical. Results may be unreliable.\n",
      "  res = hypotest_fun_out(*samples, **kwds)\n",
      "C:\\Users\\Computador\\anaconda3\\Lib\\site-packages\\scipy\\stats\\_stats_py.py:1103: RuntimeWarning: divide by zero encountered in divide\n",
      "  var *= np.divide(n, n-ddof)  # to avoid error on division by zero\n",
      "C:\\Users\\Computador\\anaconda3\\Lib\\site-packages\\scipy\\stats\\_stats_py.py:1103: RuntimeWarning: invalid value encountered in scalar multiply\n",
      "  var *= np.divide(n, n-ddof)  # to avoid error on division by zero\n"
     ]
    },
    {
     "data": {
      "text/html": [
       "<div>\n",
       "<style scoped>\n",
       "    .dataframe tbody tr th:only-of-type {\n",
       "        vertical-align: middle;\n",
       "    }\n",
       "\n",
       "    .dataframe tbody tr th {\n",
       "        vertical-align: top;\n",
       "    }\n",
       "\n",
       "    .dataframe thead th {\n",
       "        text-align: right;\n",
       "    }\n",
       "</style>\n",
       "<table border=\"1\" class=\"dataframe\">\n",
       "  <thead>\n",
       "    <tr style=\"text-align: right;\">\n",
       "      <th></th>\n",
       "      <th>Mean train</th>\n",
       "      <th>Mean test</th>\n",
       "      <th>SD train</th>\n",
       "      <th>SD test</th>\n",
       "      <th>t-test</th>\n",
       "      <th>p-value</th>\n",
       "    </tr>\n",
       "  </thead>\n",
       "  <tbody>\n",
       "    <tr>\n",
       "      <th>NRO_HOGAR</th>\n",
       "      <td>1.050164</td>\n",
       "      <td>1.049291</td>\n",
       "      <td>0.229497</td>\n",
       "      <td>0.240162</td>\n",
       "      <td>0.205406</td>\n",
       "      <td>0.837260</td>\n",
       "    </tr>\n",
       "    <tr>\n",
       "      <th>COMPONENTE</th>\n",
       "      <td>2.768088</td>\n",
       "      <td>2.757821</td>\n",
       "      <td>2.621122</td>\n",
       "      <td>2.544755</td>\n",
       "      <td>0.222963</td>\n",
       "      <td>0.823570</td>\n",
       "    </tr>\n",
       "    <tr>\n",
       "      <th>H15</th>\n",
       "      <td>1.000000</td>\n",
       "      <td>1.000000</td>\n",
       "      <td>0.000000</td>\n",
       "      <td>0.000000</td>\n",
       "      <td>NaN</td>\n",
       "      <td>NaN</td>\n",
       "    </tr>\n",
       "    <tr>\n",
       "      <th>ANO4</th>\n",
       "      <td>2004.000000</td>\n",
       "      <td>2004.000000</td>\n",
       "      <td>0.000000</td>\n",
       "      <td>0.000000</td>\n",
       "      <td>NaN</td>\n",
       "      <td>NaN</td>\n",
       "    </tr>\n",
       "    <tr>\n",
       "      <th>TRIMESTRE</th>\n",
       "      <td>1.000000</td>\n",
       "      <td>1.000000</td>\n",
       "      <td>0.000000</td>\n",
       "      <td>0.000000</td>\n",
       "      <td>NaN</td>\n",
       "      <td>NaN</td>\n",
       "    </tr>\n",
       "    <tr>\n",
       "      <th>...</th>\n",
       "      <td>...</td>\n",
       "      <td>...</td>\n",
       "      <td>...</td>\n",
       "      <td>...</td>\n",
       "      <td>...</td>\n",
       "      <td>...</td>\n",
       "    </tr>\n",
       "    <tr>\n",
       "      <th>SALARIO_SEMANAL</th>\n",
       "      <td>7166.321677</td>\n",
       "      <td>7193.701861</td>\n",
       "      <td>7587.930591</td>\n",
       "      <td>7040.353222</td>\n",
       "      <td>-0.125971</td>\n",
       "      <td>0.899763</td>\n",
       "    </tr>\n",
       "    <tr>\n",
       "      <th>HORASTRAB</th>\n",
       "      <td>41.269051</td>\n",
       "      <td>40.720885</td>\n",
       "      <td>20.361421</td>\n",
       "      <td>19.905232</td>\n",
       "      <td>0.898946</td>\n",
       "      <td>0.368755</td>\n",
       "    </tr>\n",
       "    <tr>\n",
       "      <th>PET</th>\n",
       "      <td>0.653483</td>\n",
       "      <td>0.651812</td>\n",
       "      <td>0.475883</td>\n",
       "      <td>0.476450</td>\n",
       "      <td>0.195622</td>\n",
       "      <td>0.844911</td>\n",
       "    </tr>\n",
       "    <tr>\n",
       "      <th>PEA</th>\n",
       "      <td>0.454852</td>\n",
       "      <td>0.450596</td>\n",
       "      <td>0.497982</td>\n",
       "      <td>0.497609</td>\n",
       "      <td>0.476862</td>\n",
       "      <td>0.633473</td>\n",
       "    </tr>\n",
       "    <tr>\n",
       "      <th>desocupado</th>\n",
       "      <td>0.068590</td>\n",
       "      <td>0.252767</td>\n",
       "      <td>0.072924</td>\n",
       "      <td>0.260040</td>\n",
       "      <td>-0.937261</td>\n",
       "      <td>0.348652</td>\n",
       "    </tr>\n",
       "  </tbody>\n",
       "</table>\n",
       "<p>172 rows × 6 columns</p>\n",
       "</div>"
      ],
      "text/plain": [
       "                  Mean train    Mean test     SD train      SD test    t-test  \\\n",
       "NRO_HOGAR           1.050164     1.049291     0.229497     0.240162  0.205406   \n",
       "COMPONENTE          2.768088     2.757821     2.621122     2.544755  0.222963   \n",
       "H15                 1.000000     1.000000     0.000000     0.000000       NaN   \n",
       "ANO4             2004.000000  2004.000000     0.000000     0.000000       NaN   \n",
       "TRIMESTRE           1.000000     1.000000     0.000000     0.000000       NaN   \n",
       "...                      ...          ...          ...          ...       ...   \n",
       "SALARIO_SEMANAL  7166.321677  7193.701861  7587.930591  7040.353222 -0.125971   \n",
       "HORASTRAB          41.269051    40.720885    20.361421    19.905232  0.898946   \n",
       "PET                 0.653483     0.651812     0.475883     0.476450  0.195622   \n",
       "PEA                 0.454852     0.450596     0.497982     0.497609  0.476862   \n",
       "desocupado          0.068590     0.252767     0.072924     0.260040 -0.937261   \n",
       "\n",
       "                  p-value  \n",
       "NRO_HOGAR        0.837260  \n",
       "COMPONENTE       0.823570  \n",
       "H15                   NaN  \n",
       "ANO4                  NaN  \n",
       "TRIMESTRE             NaN  \n",
       "...                   ...  \n",
       "SALARIO_SEMANAL  0.899763  \n",
       "HORASTRAB        0.368755  \n",
       "PET              0.844911  \n",
       "PEA              0.633473  \n",
       "desocupado       0.348652  \n",
       "\n",
       "[172 rows x 6 columns]"
      ]
     },
     "execution_count": 28,
     "metadata": {},
     "output_type": "execute_result"
    }
   ],
   "source": [
    "estadisticos_2004 = pd.DataFrame(index=X04_train_num.columns)\n",
    "\n",
    "estadisticos_2004['Mean train'] = X04_train_num.mean()\n",
    "estadisticos_2004['Mean test'] = X04_test_num.mean()\n",
    "estadisticos_2004['SD train'] = X04_train_num.std()\n",
    "estadisticos_2004['SD test'] = X04_test_num.std()\n",
    "\n",
    "t_values = []\n",
    "p_values = []\n",
    "for col in X04_train_num.columns:\n",
    "    t_stat, p_val = stats.ttest_ind(X04_train_num[col].dropna(), X04_test_num[col].dropna(), equal_var=False)\n",
    "    t_values.append(t_stat)\n",
    "    p_values.append(p_val)\n",
    "\n",
    "estadisticos_2004['t-test'] = t_values\n",
    "estadisticos_2004['p-value'] = p_values\n",
    "\n",
    "estadisticos_2004.loc['desocupado'] = [\n",
    "    y04_train.mean(), y04_train.std(),\n",
    "    y04_test.mean(), y04_test.std(),\n",
    "    *stats.ttest_ind(y04_train, y04_test, equal_var=False)\n",
    "]\n",
    "\n",
    "estadisticos_2004"
   ]
  },
  {
   "cell_type": "code",
   "execution_count": 30,
   "id": "2340979d-50ac-4ddf-be33-8fab71b9abf7",
   "metadata": {},
   "outputs": [
    {
     "name": "stderr",
     "output_type": "stream",
     "text": [
      "C:\\Users\\Computador\\anaconda3\\Lib\\site-packages\\scipy\\stats\\_axis_nan_policy.py:523: RuntimeWarning: Precision loss occurred in moment calculation due to catastrophic cancellation. This occurs when the data are nearly identical. Results may be unreliable.\n",
      "  res = hypotest_fun_out(*samples, **kwds)\n",
      "C:\\Users\\Computador\\anaconda3\\Lib\\site-packages\\scipy\\stats\\_stats_py.py:1103: RuntimeWarning: divide by zero encountered in divide\n",
      "  var *= np.divide(n, n-ddof)  # to avoid error on division by zero\n",
      "C:\\Users\\Computador\\anaconda3\\Lib\\site-packages\\scipy\\stats\\_stats_py.py:1103: RuntimeWarning: invalid value encountered in scalar multiply\n",
      "  var *= np.divide(n, n-ddof)  # to avoid error on division by zero\n"
     ]
    },
    {
     "data": {
      "text/html": [
       "<div>\n",
       "<style scoped>\n",
       "    .dataframe tbody tr th:only-of-type {\n",
       "        vertical-align: middle;\n",
       "    }\n",
       "\n",
       "    .dataframe tbody tr th {\n",
       "        vertical-align: top;\n",
       "    }\n",
       "\n",
       "    .dataframe thead th {\n",
       "        text-align: right;\n",
       "    }\n",
       "</style>\n",
       "<table border=\"1\" class=\"dataframe\">\n",
       "  <thead>\n",
       "    <tr style=\"text-align: right;\">\n",
       "      <th></th>\n",
       "      <th>Mean train (24)</th>\n",
       "      <th>Mean test (24)</th>\n",
       "      <th>SD train (24)</th>\n",
       "      <th>SD test (24)</th>\n",
       "      <th>t-test (24)</th>\n",
       "      <th>p-value (24)</th>\n",
       "    </tr>\n",
       "  </thead>\n",
       "  <tbody>\n",
       "    <tr>\n",
       "      <th>NRO_HOGAR</th>\n",
       "      <td>1.026896</td>\n",
       "      <td>1.030563</td>\n",
       "      <td>0.172476</td>\n",
       "      <td>0.177449</td>\n",
       "      <td>-1.145783</td>\n",
       "      <td>0.251919</td>\n",
       "    </tr>\n",
       "    <tr>\n",
       "      <th>COMPONENTE</th>\n",
       "      <td>2.336443</td>\n",
       "      <td>2.352628</td>\n",
       "      <td>1.498633</td>\n",
       "      <td>1.492140</td>\n",
       "      <td>-0.595611</td>\n",
       "      <td>0.551452</td>\n",
       "    </tr>\n",
       "    <tr>\n",
       "      <th>H15</th>\n",
       "      <td>1.000000</td>\n",
       "      <td>1.000000</td>\n",
       "      <td>0.000000</td>\n",
       "      <td>0.000000</td>\n",
       "      <td>NaN</td>\n",
       "      <td>NaN</td>\n",
       "    </tr>\n",
       "    <tr>\n",
       "      <th>ANO4</th>\n",
       "      <td>2024.000000</td>\n",
       "      <td>2024.000000</td>\n",
       "      <td>0.000000</td>\n",
       "      <td>0.000000</td>\n",
       "      <td>NaN</td>\n",
       "      <td>NaN</td>\n",
       "    </tr>\n",
       "    <tr>\n",
       "      <th>TRIMESTRE</th>\n",
       "      <td>1.000000</td>\n",
       "      <td>1.000000</td>\n",
       "      <td>0.000000</td>\n",
       "      <td>0.000000</td>\n",
       "      <td>NaN</td>\n",
       "      <td>NaN</td>\n",
       "    </tr>\n",
       "    <tr>\n",
       "      <th>...</th>\n",
       "      <td>...</td>\n",
       "      <td>...</td>\n",
       "      <td>...</td>\n",
       "      <td>...</td>\n",
       "      <td>...</td>\n",
       "      <td>...</td>\n",
       "    </tr>\n",
       "    <tr>\n",
       "      <th>SALARIO_SEMANAL</th>\n",
       "      <td>7952.768387</td>\n",
       "      <td>7896.024911</td>\n",
       "      <td>6497.418366</td>\n",
       "      <td>6762.742135</td>\n",
       "      <td>0.267280</td>\n",
       "      <td>0.789275</td>\n",
       "    </tr>\n",
       "    <tr>\n",
       "      <th>HORASTRAB</th>\n",
       "      <td>38.326918</td>\n",
       "      <td>38.079318</td>\n",
       "      <td>16.732089</td>\n",
       "      <td>16.326300</td>\n",
       "      <td>0.522208</td>\n",
       "      <td>0.601561</td>\n",
       "    </tr>\n",
       "    <tr>\n",
       "      <th>PET</th>\n",
       "      <td>0.669809</td>\n",
       "      <td>0.670526</td>\n",
       "      <td>0.470305</td>\n",
       "      <td>0.470077</td>\n",
       "      <td>-0.083752</td>\n",
       "      <td>0.933256</td>\n",
       "    </tr>\n",
       "    <tr>\n",
       "      <th>PEA</th>\n",
       "      <td>0.472608</td>\n",
       "      <td>0.461449</td>\n",
       "      <td>0.499274</td>\n",
       "      <td>0.498569</td>\n",
       "      <td>1.230088</td>\n",
       "      <td>0.218699</td>\n",
       "    </tr>\n",
       "    <tr>\n",
       "      <th>desocupado</th>\n",
       "      <td>0.032354</td>\n",
       "      <td>0.176948</td>\n",
       "      <td>0.029405</td>\n",
       "      <td>0.168958</td>\n",
       "      <td>0.946086</td>\n",
       "      <td>0.344132</td>\n",
       "    </tr>\n",
       "  </tbody>\n",
       "</table>\n",
       "<p>172 rows × 6 columns</p>\n",
       "</div>"
      ],
      "text/plain": [
       "                 Mean train (24)  Mean test (24)  SD train (24)  SD test (24)  \\\n",
       "NRO_HOGAR               1.026896        1.030563       0.172476      0.177449   \n",
       "COMPONENTE              2.336443        2.352628       1.498633      1.492140   \n",
       "H15                     1.000000        1.000000       0.000000      0.000000   \n",
       "ANO4                 2024.000000     2024.000000       0.000000      0.000000   \n",
       "TRIMESTRE               1.000000        1.000000       0.000000      0.000000   \n",
       "...                          ...             ...            ...           ...   \n",
       "SALARIO_SEMANAL      7952.768387     7896.024911    6497.418366   6762.742135   \n",
       "HORASTRAB              38.326918       38.079318      16.732089     16.326300   \n",
       "PET                     0.669809        0.670526       0.470305      0.470077   \n",
       "PEA                     0.472608        0.461449       0.499274      0.498569   \n",
       "desocupado              0.032354        0.176948       0.029405      0.168958   \n",
       "\n",
       "                 t-test (24)  p-value (24)  \n",
       "NRO_HOGAR          -1.145783      0.251919  \n",
       "COMPONENTE         -0.595611      0.551452  \n",
       "H15                      NaN           NaN  \n",
       "ANO4                     NaN           NaN  \n",
       "TRIMESTRE                NaN           NaN  \n",
       "...                      ...           ...  \n",
       "SALARIO_SEMANAL     0.267280      0.789275  \n",
       "HORASTRAB           0.522208      0.601561  \n",
       "PET                -0.083752      0.933256  \n",
       "PEA                 1.230088      0.218699  \n",
       "desocupado          0.946086      0.344132  \n",
       "\n",
       "[172 rows x 6 columns]"
      ]
     },
     "execution_count": 30,
     "metadata": {},
     "output_type": "execute_result"
    }
   ],
   "source": [
    "estadisticos_2024 = pd.DataFrame(index=X04_train_num.columns)\n",
    "\n",
    "estadisticos_2024['Mean train (24)'] = X24_train_num.mean()\n",
    "estadisticos_2024['Mean test (24)'] = X24_test_num.mean()\n",
    "estadisticos_2024['SD train (24)'] = X24_train_num.std()\n",
    "estadisticos_2024['SD test (24)'] = X24_test_num.std()\n",
    "\n",
    "t_values = []\n",
    "p_values = []\n",
    "for col in X04_train_num.columns:\n",
    "    t_stat, p_val = stats.ttest_ind(X24_train_num[col].dropna(), X24_test_num[col].dropna(), equal_var=False)\n",
    "    t_values.append(t_stat)\n",
    "    p_values.append(p_val)\n",
    "\n",
    "estadisticos_2024['t-test (24)'] = t_values\n",
    "estadisticos_2024['p-value (24)'] = p_values\n",
    "\n",
    "estadisticos_2024.loc['desocupado'] = [\n",
    "    y24_train.mean(), y24_train.std(),\n",
    "    y24_test.mean(), y24_test.std(),\n",
    "    *stats.ttest_ind(y24_train, y24_test, equal_var=False)\n",
    "]\n",
    "\n",
    "estadisticos_2024"
   ]
  },
  {
   "cell_type": "code",
   "execution_count": 48,
   "id": "b79c6cb1-b918-4f65-83d8-2b82f5e07afe",
   "metadata": {},
   "outputs": [],
   "source": [
    "estadisticos = estadisticos_2004.copy()\n",
    "estadisticos[\"Mean train (24)\"] = estadisticos_2024[\"Mean train (24)\"]\n",
    "estadisticos[\"Mean test (24)\"] = estadisticos_2024[\"Mean test (24)\"]\n",
    "estadisticos[\"SD train (24)\"] = estadisticos_2024[\"SD train (24)\"]\n",
    "estadisticos[\"SD test (24)\"] = estadisticos_2024[\"SD test (24)\"]\n",
    "estadisticos[\"t-test (24)\"] = estadisticos_2024[\"t-test (24)\"]\n",
    "estadisticos[\"p-value (24)\"] = estadisticos_2024[\"p-value (24)\"]\n",
    "\n",
    "  "
   ]
  },
  {
   "cell_type": "code",
   "execution_count": 50,
   "id": "2250da1c-8e15-4618-81fc-ad7c4a26a78b",
   "metadata": {},
   "outputs": [],
   "source": [
    "estadisticos = estadisticos.rename(columns={\n",
    "    \"Mean train\":\"Mean train (04)\",\n",
    "    \"Mean test\":\"Mean test (04)\",\n",
    "    \"SD train\":\"SD train (04)\",\n",
    "    \"SD test\":\"SD test (04)\",\n",
    "    \"t-test\":\"t-test (04)\",\n",
    "    \"p-value\":\"p-value (04)\"\n",
    "})  "
   ]
  },
  {
   "cell_type": "code",
   "execution_count": 52,
   "id": "347b4eb3-e4cb-453e-a8d6-b764547fb97f",
   "metadata": {},
   "outputs": [
    {
     "data": {
      "text/html": [
       "<div>\n",
       "<style scoped>\n",
       "    .dataframe tbody tr th:only-of-type {\n",
       "        vertical-align: middle;\n",
       "    }\n",
       "\n",
       "    .dataframe tbody tr th {\n",
       "        vertical-align: top;\n",
       "    }\n",
       "\n",
       "    .dataframe thead th {\n",
       "        text-align: right;\n",
       "    }\n",
       "</style>\n",
       "<table border=\"1\" class=\"dataframe\">\n",
       "  <thead>\n",
       "    <tr style=\"text-align: right;\">\n",
       "      <th></th>\n",
       "      <th>Mean train (04)</th>\n",
       "      <th>Mean test (04)</th>\n",
       "      <th>SD train (04)</th>\n",
       "      <th>SD test (04)</th>\n",
       "      <th>t-test (04)</th>\n",
       "      <th>p-value (04)</th>\n",
       "      <th>Mean train (24)</th>\n",
       "      <th>Mean test (24)</th>\n",
       "      <th>SD train (24)</th>\n",
       "      <th>SD test (24)</th>\n",
       "      <th>t-test (24)</th>\n",
       "      <th>p-value (24)</th>\n",
       "    </tr>\n",
       "  </thead>\n",
       "  <tbody>\n",
       "    <tr>\n",
       "      <th>NRO_HOGAR</th>\n",
       "      <td>1.050164</td>\n",
       "      <td>1.049291</td>\n",
       "      <td>0.229497</td>\n",
       "      <td>0.240162</td>\n",
       "      <td>0.205406</td>\n",
       "      <td>0.837260</td>\n",
       "      <td>1.026896</td>\n",
       "      <td>1.030563</td>\n",
       "      <td>0.172476</td>\n",
       "      <td>0.177449</td>\n",
       "      <td>-1.145783</td>\n",
       "      <td>0.251919</td>\n",
       "    </tr>\n",
       "    <tr>\n",
       "      <th>COMPONENTE</th>\n",
       "      <td>2.768088</td>\n",
       "      <td>2.757821</td>\n",
       "      <td>2.621122</td>\n",
       "      <td>2.544755</td>\n",
       "      <td>0.222963</td>\n",
       "      <td>0.823570</td>\n",
       "      <td>2.336443</td>\n",
       "      <td>2.352628</td>\n",
       "      <td>1.498633</td>\n",
       "      <td>1.492140</td>\n",
       "      <td>-0.595611</td>\n",
       "      <td>0.551452</td>\n",
       "    </tr>\n",
       "    <tr>\n",
       "      <th>H15</th>\n",
       "      <td>1.000000</td>\n",
       "      <td>1.000000</td>\n",
       "      <td>0.000000</td>\n",
       "      <td>0.000000</td>\n",
       "      <td>NaN</td>\n",
       "      <td>NaN</td>\n",
       "      <td>1.000000</td>\n",
       "      <td>1.000000</td>\n",
       "      <td>0.000000</td>\n",
       "      <td>0.000000</td>\n",
       "      <td>NaN</td>\n",
       "      <td>NaN</td>\n",
       "    </tr>\n",
       "    <tr>\n",
       "      <th>ANO4</th>\n",
       "      <td>2004.000000</td>\n",
       "      <td>2004.000000</td>\n",
       "      <td>0.000000</td>\n",
       "      <td>0.000000</td>\n",
       "      <td>NaN</td>\n",
       "      <td>NaN</td>\n",
       "      <td>2024.000000</td>\n",
       "      <td>2024.000000</td>\n",
       "      <td>0.000000</td>\n",
       "      <td>0.000000</td>\n",
       "      <td>NaN</td>\n",
       "      <td>NaN</td>\n",
       "    </tr>\n",
       "    <tr>\n",
       "      <th>TRIMESTRE</th>\n",
       "      <td>1.000000</td>\n",
       "      <td>1.000000</td>\n",
       "      <td>0.000000</td>\n",
       "      <td>0.000000</td>\n",
       "      <td>NaN</td>\n",
       "      <td>NaN</td>\n",
       "      <td>1.000000</td>\n",
       "      <td>1.000000</td>\n",
       "      <td>0.000000</td>\n",
       "      <td>0.000000</td>\n",
       "      <td>NaN</td>\n",
       "      <td>NaN</td>\n",
       "    </tr>\n",
       "    <tr>\n",
       "      <th>...</th>\n",
       "      <td>...</td>\n",
       "      <td>...</td>\n",
       "      <td>...</td>\n",
       "      <td>...</td>\n",
       "      <td>...</td>\n",
       "      <td>...</td>\n",
       "      <td>...</td>\n",
       "      <td>...</td>\n",
       "      <td>...</td>\n",
       "      <td>...</td>\n",
       "      <td>...</td>\n",
       "      <td>...</td>\n",
       "    </tr>\n",
       "    <tr>\n",
       "      <th>SALARIO_SEMANAL</th>\n",
       "      <td>7166.321677</td>\n",
       "      <td>7193.701861</td>\n",
       "      <td>7587.930591</td>\n",
       "      <td>7040.353222</td>\n",
       "      <td>-0.125971</td>\n",
       "      <td>0.899763</td>\n",
       "      <td>7952.768387</td>\n",
       "      <td>7896.024911</td>\n",
       "      <td>6497.418366</td>\n",
       "      <td>6762.742135</td>\n",
       "      <td>0.267280</td>\n",
       "      <td>0.789275</td>\n",
       "    </tr>\n",
       "    <tr>\n",
       "      <th>HORASTRAB</th>\n",
       "      <td>41.269051</td>\n",
       "      <td>40.720885</td>\n",
       "      <td>20.361421</td>\n",
       "      <td>19.905232</td>\n",
       "      <td>0.898946</td>\n",
       "      <td>0.368755</td>\n",
       "      <td>38.326918</td>\n",
       "      <td>38.079318</td>\n",
       "      <td>16.732089</td>\n",
       "      <td>16.326300</td>\n",
       "      <td>0.522208</td>\n",
       "      <td>0.601561</td>\n",
       "    </tr>\n",
       "    <tr>\n",
       "      <th>PET</th>\n",
       "      <td>0.653483</td>\n",
       "      <td>0.651812</td>\n",
       "      <td>0.475883</td>\n",
       "      <td>0.476450</td>\n",
       "      <td>0.195622</td>\n",
       "      <td>0.844911</td>\n",
       "      <td>0.669809</td>\n",
       "      <td>0.670526</td>\n",
       "      <td>0.470305</td>\n",
       "      <td>0.470077</td>\n",
       "      <td>-0.083752</td>\n",
       "      <td>0.933256</td>\n",
       "    </tr>\n",
       "    <tr>\n",
       "      <th>PEA</th>\n",
       "      <td>0.454852</td>\n",
       "      <td>0.450596</td>\n",
       "      <td>0.497982</td>\n",
       "      <td>0.497609</td>\n",
       "      <td>0.476862</td>\n",
       "      <td>0.633473</td>\n",
       "      <td>0.472608</td>\n",
       "      <td>0.461449</td>\n",
       "      <td>0.499274</td>\n",
       "      <td>0.498569</td>\n",
       "      <td>1.230088</td>\n",
       "      <td>0.218699</td>\n",
       "    </tr>\n",
       "    <tr>\n",
       "      <th>desocupado</th>\n",
       "      <td>0.068590</td>\n",
       "      <td>0.252767</td>\n",
       "      <td>0.072924</td>\n",
       "      <td>0.260040</td>\n",
       "      <td>-0.937261</td>\n",
       "      <td>0.348652</td>\n",
       "      <td>0.032354</td>\n",
       "      <td>0.176948</td>\n",
       "      <td>0.029405</td>\n",
       "      <td>0.168958</td>\n",
       "      <td>0.946086</td>\n",
       "      <td>0.344132</td>\n",
       "    </tr>\n",
       "  </tbody>\n",
       "</table>\n",
       "<p>172 rows × 12 columns</p>\n",
       "</div>"
      ],
      "text/plain": [
       "                 Mean train (04)  Mean test (04)  SD train (04)  SD test (04)  \\\n",
       "NRO_HOGAR               1.050164        1.049291       0.229497      0.240162   \n",
       "COMPONENTE              2.768088        2.757821       2.621122      2.544755   \n",
       "H15                     1.000000        1.000000       0.000000      0.000000   \n",
       "ANO4                 2004.000000     2004.000000       0.000000      0.000000   \n",
       "TRIMESTRE               1.000000        1.000000       0.000000      0.000000   \n",
       "...                          ...             ...            ...           ...   \n",
       "SALARIO_SEMANAL      7166.321677     7193.701861    7587.930591   7040.353222   \n",
       "HORASTRAB              41.269051       40.720885      20.361421     19.905232   \n",
       "PET                     0.653483        0.651812       0.475883      0.476450   \n",
       "PEA                     0.454852        0.450596       0.497982      0.497609   \n",
       "desocupado              0.068590        0.252767       0.072924      0.260040   \n",
       "\n",
       "                 t-test (04)  p-value (04)  Mean train (24)  Mean test (24)  \\\n",
       "NRO_HOGAR           0.205406      0.837260         1.026896        1.030563   \n",
       "COMPONENTE          0.222963      0.823570         2.336443        2.352628   \n",
       "H15                      NaN           NaN         1.000000        1.000000   \n",
       "ANO4                     NaN           NaN      2024.000000     2024.000000   \n",
       "TRIMESTRE                NaN           NaN         1.000000        1.000000   \n",
       "...                      ...           ...              ...             ...   \n",
       "SALARIO_SEMANAL    -0.125971      0.899763      7952.768387     7896.024911   \n",
       "HORASTRAB           0.898946      0.368755        38.326918       38.079318   \n",
       "PET                 0.195622      0.844911         0.669809        0.670526   \n",
       "PEA                 0.476862      0.633473         0.472608        0.461449   \n",
       "desocupado         -0.937261      0.348652         0.032354        0.176948   \n",
       "\n",
       "                 SD train (24)  SD test (24)  t-test (24)  p-value (24)  \n",
       "NRO_HOGAR             0.172476      0.177449    -1.145783      0.251919  \n",
       "COMPONENTE            1.498633      1.492140    -0.595611      0.551452  \n",
       "H15                   0.000000      0.000000          NaN           NaN  \n",
       "ANO4                  0.000000      0.000000          NaN           NaN  \n",
       "TRIMESTRE             0.000000      0.000000          NaN           NaN  \n",
       "...                        ...           ...          ...           ...  \n",
       "SALARIO_SEMANAL    6497.418366   6762.742135     0.267280      0.789275  \n",
       "HORASTRAB            16.732089     16.326300     0.522208      0.601561  \n",
       "PET                   0.470305      0.470077    -0.083752      0.933256  \n",
       "PEA                   0.499274      0.498569     1.230088      0.218699  \n",
       "desocupado            0.029405      0.168958     0.946086      0.344132  \n",
       "\n",
       "[172 rows x 12 columns]"
      ]
     },
     "execution_count": 52,
     "metadata": {},
     "output_type": "execute_result"
    }
   ],
   "source": [
    "estadisticos"
   ]
  },
  {
   "cell_type": "code",
   "execution_count": 56,
   "id": "263d9711-49a2-4c8a-87e4-60e9afdeb9d7",
   "metadata": {},
   "outputs": [],
   "source": [
    "estadisticos.to_excel('estadisticos corregidos.xlsx')"
   ]
  },
  {
   "cell_type": "markdown",
   "id": "a6d57587-2df2-4ed2-82ac-2a058dab9852",
   "metadata": {},
   "source": [
    "# B) Metodo Supervisado 1: Modelo de Regresión Lineal"
   ]
  },
  {
   "cell_type": "markdown",
   "id": "669f453e-e5ef-4ce2-ba1f-3b3e588f36e5",
   "metadata": {},
   "source": [
    "## Punto 2)"
   ]
  },
  {
   "cell_type": "code",
   "execution_count": 30,
   "id": "b09c6bbf-5f88-4d41-aad7-1fd8c23bede6",
   "metadata": {},
   "outputs": [],
   "source": [
    "# Uno la base de entrenamiento\n",
    "Training=pd.concat([X04_train, X24_train], ignore_index=True).fillna(0)"
   ]
  },
  {
   "cell_type": "markdown",
   "id": "06bda623-6193-441f-a51c-f33a0f5e2b6a",
   "metadata": {},
   "source": [
    "## MODELO 1"
   ]
  },
  {
   "cell_type": "code",
   "execution_count": 32,
   "id": "0a4daa7d-8501-47b3-bd24-0eadddb2e109",
   "metadata": {},
   "outputs": [],
   "source": [
    "# Filtro las columnas que me interesan\n",
    "X1= Training['CH06']\n",
    "X1 = np.array(X1).reshape((-1, 1))\n",
    "X1=sm.add_constant(X1) # agrego la columna de 1s\n",
    "Y= Training['SALARIO_SEMANAL'].fillna(0) # Cuando no responden en P21 lo lleno con un 0\n",
    "Y=np.array(Y)"
   ]
  },
  {
   "cell_type": "code",
   "execution_count": 34,
   "id": "e25d1d35-01ab-42da-9cd3-2cf8fde7a20d",
   "metadata": {},
   "outputs": [
    {
     "name": "stdout",
     "output_type": "stream",
     "text": [
      "                            OLS Regression Results                            \n",
      "==============================================================================\n",
      "Dep. Variable:                      y   R-squared:                       0.022\n",
      "Model:                            OLS   Adj. R-squared:                  0.022\n",
      "Method:                 Least Squares   F-statistic:                     452.1\n",
      "Date:                Mon, 02 Jun 2025   Prob (F-statistic):           2.93e-99\n",
      "Time:                        12:46:59   Log-Likelihood:            -2.0489e+05\n",
      "No. Observations:               20442   AIC:                         4.098e+05\n",
      "Df Residuals:                   20440   BIC:                         4.098e+05\n",
      "Df Model:                           1                                         \n",
      "Covariance Type:            nonrobust                                         \n",
      "==============================================================================\n",
      "                 coef    std err          t      P>|t|      [0.025      0.975]\n",
      "------------------------------------------------------------------------------\n",
      "const       1360.9577     70.446     19.319      0.000    1222.878    1499.037\n",
      "x1            36.2065      1.703     21.264      0.000      32.869      39.544\n",
      "==============================================================================\n",
      "Omnibus:                    21689.377   Durbin-Watson:                   1.995\n",
      "Prob(Omnibus):                  0.000   Jarque-Bera (JB):          3336800.954\n",
      "Skew:                           5.079   Prob(JB):                         0.00\n",
      "Kurtosis:                      64.761   Cond. No.                         76.4\n",
      "==============================================================================\n",
      "\n",
      "Notes:\n",
      "[1] Standard Errors assume that the covariance matrix of the errors is correctly specified.\n"
     ]
    }
   ],
   "source": [
    "model1= sm.OLS(Y,X1)\n",
    "# Ajustamos el modelo\n",
    "results1 = model1.fit()\n",
    "print(results1.summary())\n",
    "y1_pred = results1.fittedvalues"
   ]
  },
  {
   "cell_type": "markdown",
   "id": "92e0bd67-ea03-4b85-9db0-f3b0f0b3d4d3",
   "metadata": {},
   "source": [
    "## MODELO 2"
   ]
  },
  {
   "cell_type": "code",
   "execution_count": 37,
   "id": "431c4322-cb24-42a5-804d-eba2be4c8814",
   "metadata": {},
   "outputs": [],
   "source": [
    "X2=Training[['CH06','EDAD2']]\n",
    "X2=sm.add_constant(X2) # Columna de 1s\n"
   ]
  },
  {
   "cell_type": "code",
   "execution_count": 39,
   "id": "ef2ec8a3-1cd5-408a-bff1-a2e8b6a06437",
   "metadata": {},
   "outputs": [
    {
     "name": "stdout",
     "output_type": "stream",
     "text": [
      "                            OLS Regression Results                            \n",
      "==============================================================================\n",
      "Dep. Variable:                      y   R-squared:                       0.141\n",
      "Model:                            OLS   Adj. R-squared:                  0.141\n",
      "Method:                 Least Squares   F-statistic:                     1674.\n",
      "Date:                Mon, 02 Jun 2025   Prob (F-statistic):               0.00\n",
      "Time:                        12:47:01   Log-Likelihood:            -2.0357e+05\n",
      "No. Observations:               20442   AIC:                         4.071e+05\n",
      "Df Residuals:                   20439   BIC:                         4.072e+05\n",
      "Df Model:                           2                                         \n",
      "Covariance Type:            nonrobust                                         \n",
      "==============================================================================\n",
      "                 coef    std err          t      P>|t|      [0.025      0.975]\n",
      "------------------------------------------------------------------------------\n",
      "const      -2499.8706     98.075    -25.489      0.000   -2692.105   -2307.636\n",
      "CH06         329.4141      5.734     57.445      0.000     318.174     340.654\n",
      "EDAD2         -3.7020      0.070    -53.233      0.000      -3.838      -3.566\n",
      "==============================================================================\n",
      "Omnibus:                    22871.844   Durbin-Watson:                   1.986\n",
      "Prob(Omnibus):                  0.000   Jarque-Bera (JB):          4902598.247\n",
      "Skew:                           5.463   Prob(JB):                         0.00\n",
      "Kurtosis:                      78.077   Cond. No.                     6.92e+03\n",
      "==============================================================================\n",
      "\n",
      "Notes:\n",
      "[1] Standard Errors assume that the covariance matrix of the errors is correctly specified.\n",
      "[2] The condition number is large, 6.92e+03. This might indicate that there are\n",
      "strong multicollinearity or other numerical problems.\n"
     ]
    }
   ],
   "source": [
    "model2= sm.OLS(Y,X2)\n",
    "# Ajustamos el modelo\n",
    "results2 = model2.fit()\n",
    "print(results2.summary())\n",
    "y2_pred = results2.fittedvalues"
   ]
  },
  {
   "cell_type": "markdown",
   "id": "9b89e188-fb80-4d67-9bc3-264aa7051ec9",
   "metadata": {},
   "source": [
    "## MODELO 3"
   ]
  },
  {
   "cell_type": "code",
   "execution_count": 45,
   "id": "f8b89147-70c7-4b5f-9d2d-dd505211881a",
   "metadata": {
    "collapsed": true,
    "jupyter": {
     "outputs_hidden": true
    }
   },
   "outputs": [
    {
     "name": "stderr",
     "output_type": "stream",
     "text": [
      "C:\\Users\\Computador\\AppData\\Local\\Temp\\ipykernel_21720\\3719445760.py:1: FutureWarning: A value is trying to be set on a copy of a DataFrame or Series through chained assignment using an inplace method.\n",
      "The behavior will change in pandas 3.0. This inplace method will never work because the intermediate object on which we are setting values always behaves as a copy.\n",
      "\n",
      "For example, when doing 'df[col].method(value, inplace=True)', try using 'df.method({col: value}, inplace=True)' or df[col] = df[col].method(value) instead, to perform the operation inplace on the original object.\n",
      "\n",
      "\n",
      "  Training['EDUC'].fillna(0, inplace=True) # A los valores NaN los relleno con 0s\n"
     ]
    }
   ],
   "source": [
    "Training['EDUC'].fillna(0, inplace=True) # A los valores NaN los relleno con 0s\n",
    "X3=Training[['CH06','EDAD2','EDUC']]\n",
    "X3=sm.add_constant(X3)\n"
   ]
  },
  {
   "cell_type": "code",
   "execution_count": 47,
   "id": "fdcd3e85-146f-4aa8-a95b-5c56e6d55224",
   "metadata": {},
   "outputs": [
    {
     "name": "stdout",
     "output_type": "stream",
     "text": [
      "                            OLS Regression Results                            \n",
      "==============================================================================\n",
      "Dep. Variable:                      y   R-squared:                       0.162\n",
      "Model:                            OLS   Adj. R-squared:                  0.162\n",
      "Method:                 Least Squares   F-statistic:                     1319.\n",
      "Date:                Mon, 02 Jun 2025   Prob (F-statistic):               0.00\n",
      "Time:                        12:47:17   Log-Likelihood:            -2.0331e+05\n",
      "No. Observations:               20442   AIC:                         4.066e+05\n",
      "Df Residuals:                   20438   BIC:                         4.067e+05\n",
      "Df Model:                           3                                         \n",
      "Covariance Type:            nonrobust                                         \n",
      "==============================================================================\n",
      "                 coef    std err          t      P>|t|      [0.025      0.975]\n",
      "------------------------------------------------------------------------------\n",
      "const      -2607.5716     96.959    -26.894      0.000   -2797.619   -2417.525\n",
      "CH06         233.7178      7.040     33.201      0.000     219.920     247.516\n",
      "EDAD2         -2.6622      0.082    -32.332      0.000      -2.824      -2.501\n",
      "EDUC         190.8089      8.339     22.882      0.000     174.464     207.154\n",
      "==============================================================================\n",
      "Omnibus:                    22848.867   Durbin-Watson:                   1.982\n",
      "Prob(Omnibus):                  0.000   Jarque-Bera (JB):          5171542.197\n",
      "Skew:                           5.430   Prob(JB):                         0.00\n",
      "Kurtosis:                      80.160   Cond. No.                     6.93e+03\n",
      "==============================================================================\n",
      "\n",
      "Notes:\n",
      "[1] Standard Errors assume that the covariance matrix of the errors is correctly specified.\n",
      "[2] The condition number is large, 6.93e+03. This might indicate that there are\n",
      "strong multicollinearity or other numerical problems.\n"
     ]
    }
   ],
   "source": [
    "model3= sm.OLS(Y,X3)\n",
    "# Ajustamos el modelo\n",
    "results3 = model3.fit()\n",
    "print(results3.summary())\n",
    "y3_pred = results3.fittedvalues"
   ]
  },
  {
   "cell_type": "markdown",
   "id": "68136e87-b419-42b8-87e9-99cc9a0842e7",
   "metadata": {},
   "source": [
    "## MODELO 4"
   ]
  },
  {
   "cell_type": "code",
   "execution_count": 50,
   "id": "90c64960-be16-43de-8e55-33c7aa3359ae",
   "metadata": {},
   "outputs": [],
   "source": [
    "# Creo la variable dummy 'mujer'\n",
    "Training.loc[(Training[\"CH04\"] == 2), \"mujer\"] = 1\n",
    "Training.loc[(Training[\"CH04\"] != 2), \"mujer\"] = 0\n",
    "\n",
    "X4=Training[['CH06','EDAD2','EDUC','mujer']]\n",
    "X4=sm.add_constant(X4)"
   ]
  },
  {
   "cell_type": "code",
   "execution_count": 52,
   "id": "2aecb77c-cf2b-4805-929f-3e3e059fcacb",
   "metadata": {
    "scrolled": true
   },
   "outputs": [
    {
     "name": "stdout",
     "output_type": "stream",
     "text": [
      "                            OLS Regression Results                            \n",
      "==============================================================================\n",
      "Dep. Variable:                      y   R-squared:                       0.191\n",
      "Model:                            OLS   Adj. R-squared:                  0.191\n",
      "Method:                 Least Squares   F-statistic:                     1208.\n",
      "Date:                Mon, 02 Jun 2025   Prob (F-statistic):               0.00\n",
      "Time:                        12:47:22   Log-Likelihood:            -2.0295e+05\n",
      "No. Observations:               20442   AIC:                         4.059e+05\n",
      "Df Residuals:                   20437   BIC:                         4.059e+05\n",
      "Df Model:                           4                                         \n",
      "Covariance Type:            nonrobust                                         \n",
      "==============================================================================\n",
      "                 coef    std err          t      P>|t|      [0.025      0.975]\n",
      "------------------------------------------------------------------------------\n",
      "const      -1674.0945    101.308    -16.525      0.000   -1872.666   -1475.523\n",
      "CH06         226.2085      6.922     32.679      0.000     212.640     239.776\n",
      "EDAD2         -2.5440      0.081    -31.399      0.000      -2.703      -2.385\n",
      "EDUC         203.0447      8.206     24.744      0.000     186.961     219.128\n",
      "mujer      -1888.3690     69.715    -27.087      0.000   -2025.015   -1751.723\n",
      "==============================================================================\n",
      "Omnibus:                    22936.525   Durbin-Watson:                   1.982\n",
      "Prob(Omnibus):                  0.000   Jarque-Bera (JB):          5479425.440\n",
      "Skew:                           5.447   Prob(JB):                         0.00\n",
      "Kurtosis:                      82.463   Cond. No.                     7.68e+03\n",
      "==============================================================================\n",
      "\n",
      "Notes:\n",
      "[1] Standard Errors assume that the covariance matrix of the errors is correctly specified.\n",
      "[2] The condition number is large, 7.68e+03. This might indicate that there are\n",
      "strong multicollinearity or other numerical problems.\n"
     ]
    }
   ],
   "source": [
    "model4= sm.OLS(Y,X4)\n",
    "# Ajustamos el modelo\n",
    "results4 = model4.fit()\n",
    "print(results4.summary())\n",
    "y4_pred = results4.fittedvalues"
   ]
  },
  {
   "cell_type": "markdown",
   "id": "69def03f-8bba-462a-972f-1aaead6fd855",
   "metadata": {},
   "source": [
    "## MODELO 5"
   ]
  },
  {
   "cell_type": "code",
   "execution_count": 55,
   "id": "72b3db3d-da0a-459f-879d-0bf039abd73f",
   "metadata": {},
   "outputs": [
    {
     "name": "stderr",
     "output_type": "stream",
     "text": [
      "C:\\Users\\Computador\\AppData\\Local\\Temp\\ipykernel_21720\\929346275.py:2: SettingWithCopyWarning: \n",
      "A value is trying to be set on a copy of a slice from a DataFrame\n",
      "\n",
      "See the caveats in the documentation: https://pandas.pydata.org/pandas-docs/stable/user_guide/indexing.html#returning-a-view-versus-a-copy\n",
      "  X5.fillna(0, inplace=True)\n"
     ]
    }
   ],
   "source": [
    "\n",
    "X5=Training[['CH06','EDAD2','EDUC','mujer','HORASTRAB', 'PET']]\n",
    "X5.fillna(0, inplace=True)\n",
    "\n",
    "X5=sm.add_constant(X5)\n"
   ]
  },
  {
   "cell_type": "code",
   "execution_count": 57,
   "id": "47ecd488-eec0-4e99-b1b1-0f8805411cc4",
   "metadata": {},
   "outputs": [
    {
     "name": "stdout",
     "output_type": "stream",
     "text": [
      "                            OLS Regression Results                            \n",
      "==============================================================================\n",
      "Dep. Variable:                      y   R-squared:                       0.329\n",
      "Model:                            OLS   Adj. R-squared:                  0.329\n",
      "Method:                 Least Squares   F-statistic:                     1673.\n",
      "Date:                Mon, 02 Jun 2025   Prob (F-statistic):               0.00\n",
      "Time:                        12:47:24   Log-Likelihood:            -2.0103e+05\n",
      "No. Observations:               20442   AIC:                         4.021e+05\n",
      "Df Residuals:                   20435   BIC:                         4.021e+05\n",
      "Df Model:                           6                                         \n",
      "Covariance Type:            nonrobust                                         \n",
      "==============================================================================\n",
      "                 coef    std err          t      P>|t|      [0.025      0.975]\n",
      "------------------------------------------------------------------------------\n",
      "const      -1062.9735     97.875    -10.861      0.000   -1254.816    -871.131\n",
      "CH06          83.9566     10.097      8.315      0.000      64.166     103.747\n",
      "EDAD2         -0.9457      0.121     -7.827      0.000      -1.183      -0.709\n",
      "EDUC         187.2094      7.584     24.684      0.000     172.344     202.075\n",
      "mujer       -870.5638     65.399    -13.312      0.000    -998.751    -742.377\n",
      "HORASTRAB    108.5003      1.673     64.856      0.000     105.221     111.779\n",
      "PET         -638.0389    128.388     -4.970      0.000    -889.691    -386.387\n",
      "==============================================================================\n",
      "Omnibus:                    25010.970   Durbin-Watson:                   1.987\n",
      "Prob(Omnibus):                  0.000   Jarque-Bera (JB):          9376825.541\n",
      "Skew:                           6.238   Prob(JB):                         0.00\n",
      "Kurtosis:                     107.179   Cond. No.                     1.08e+04\n",
      "==============================================================================\n",
      "\n",
      "Notes:\n",
      "[1] Standard Errors assume that the covariance matrix of the errors is correctly specified.\n",
      "[2] The condition number is large, 1.08e+04. This might indicate that there are\n",
      "strong multicollinearity or other numerical problems.\n"
     ]
    }
   ],
   "source": [
    "model5= sm.OLS(Y,X5)\n",
    "# Ajustamos el modelo\n",
    "results5 = model5.fit()\n",
    "print(results5.summary())\n",
    "y5_pred = results5.fittedvalues"
   ]
  },
  {
   "cell_type": "markdown",
   "id": "e2ba7707-283e-4829-96cb-32e700c4bef8",
   "metadata": {},
   "source": [
    "## Punto 3. Enfoque de Validación:"
   ]
  },
  {
   "cell_type": "code",
   "execution_count": 60,
   "id": "13acc07f-ff6a-47e9-bdcf-7f98b0b7d510",
   "metadata": {},
   "outputs": [
    {
     "name": "stderr",
     "output_type": "stream",
     "text": [
      "C:\\Users\\Computador\\AppData\\Local\\Temp\\ipykernel_21720\\1250609102.py:2: FutureWarning: Downcasting object dtype arrays on .fillna, .ffill, .bfill is deprecated and will change in a future version. Call result.infer_objects(copy=False) instead. To opt-in to the future behavior, set `pd.set_option('future.no_silent_downcasting', True)`\n",
      "  Test=pd.concat([X04_test, X24_test], ignore_index=True).fillna(0)\n"
     ]
    }
   ],
   "source": [
    "# Realizo lo mismo que hice con las bases de entrenamiento pero aplicado a las de testeo\n",
    "Test=pd.concat([X04_test, X24_test], ignore_index=True).fillna(0)\n",
    "Y_test= Test['SALARIO_SEMANAL'].fillna(0)\n",
    "Y_test=np.array(Y_test)"
   ]
  },
  {
   "cell_type": "markdown",
   "id": "b5add205-3b44-4812-a00c-1f30ba62ff21",
   "metadata": {},
   "source": [
    "## MODELO 1"
   ]
  },
  {
   "cell_type": "code",
   "execution_count": 63,
   "id": "c53fbce8-11e1-4891-8e91-95aa90d10c38",
   "metadata": {},
   "outputs": [],
   "source": [
    "X1_test= Test['CH06']\n",
    "X1_test = np.array(X1_test).reshape((-1, 1))\n",
    "X1_test=sm.add_constant(X1_test)"
   ]
  },
  {
   "cell_type": "code",
   "execution_count": 65,
   "id": "d9ce8227-b2b4-4aa6-9d9d-9273fe6ae4dd",
   "metadata": {},
   "outputs": [
    {
     "name": "stdout",
     "output_type": "stream",
     "text": [
      "28257253.494995017\n",
      "5315.755213983712\n",
      "3421.9202745930656\n"
     ]
    }
   ],
   "source": [
    "Y1_test_pred =results1.predict(X1_test)\n",
    "# Usando MSE testeo de scikit-learn\n",
    "mse1_test = mean_squared_error(Y_test, Y1_test_pred)\n",
    "print(mse1_test)\n",
    "\n",
    "# También el RMSE y el MAE\n",
    "rmse1_test = np.sqrt(mean_squared_error(Y_test, Y1_test_pred))\n",
    "print(rmse1_test)\n",
    "\n",
    "mae1_test = mean_absolute_error(Y_test, Y1_test_pred)\n",
    "print(mae1_test)"
   ]
  },
  {
   "cell_type": "markdown",
   "id": "9dbd8205-0072-4a41-be73-12e54048f65b",
   "metadata": {},
   "source": [
    "## MODELO 2"
   ]
  },
  {
   "cell_type": "code",
   "execution_count": 68,
   "id": "9f430977-635b-4ef8-a870-e2225695ec2e",
   "metadata": {},
   "outputs": [],
   "source": [
    "X2_test=Test[['CH06','EDAD2']]\n",
    "X2_test=sm.add_constant(X2_test)"
   ]
  },
  {
   "cell_type": "code",
   "execution_count": 70,
   "id": "0f7fbc39-db1d-4082-b96a-d4da9d2c4adc",
   "metadata": {},
   "outputs": [
    {
     "name": "stdout",
     "output_type": "stream",
     "text": [
      "24726123.782343067\n",
      "4972.536956357697\n",
      "3086.8870398987674\n"
     ]
    }
   ],
   "source": [
    "Y2_test_pred = results2.predict(X2_test)\n",
    "\n",
    "mse2_test = mean_squared_error(Y_test, Y2_test_pred)\n",
    "print(mse2_test)\n",
    "rmse2_test = np.sqrt(mean_squared_error(Y_test, Y2_test_pred))\n",
    "print(rmse2_test)\n",
    "mae2_test = mean_absolute_error(Y_test, Y2_test_pred)\n",
    "print(mae2_test)"
   ]
  },
  {
   "cell_type": "markdown",
   "id": "cdfc075a-6397-474c-8128-664bedd46002",
   "metadata": {},
   "source": [
    "## MODELO 3"
   ]
  },
  {
   "cell_type": "code",
   "execution_count": 73,
   "id": "ca9b108b-7bb7-4509-99dc-e335af07f797",
   "metadata": {},
   "outputs": [
    {
     "name": "stderr",
     "output_type": "stream",
     "text": [
      "C:\\Users\\Computador\\AppData\\Local\\Temp\\ipykernel_21720\\2576146381.py:1: FutureWarning: A value is trying to be set on a copy of a DataFrame or Series through chained assignment using an inplace method.\n",
      "The behavior will change in pandas 3.0. This inplace method will never work because the intermediate object on which we are setting values always behaves as a copy.\n",
      "\n",
      "For example, when doing 'df[col].method(value, inplace=True)', try using 'df.method({col: value}, inplace=True)' or df[col] = df[col].method(value) instead, to perform the operation inplace on the original object.\n",
      "\n",
      "\n",
      "  Test['EDUC'].fillna(0, inplace=True)\n"
     ]
    }
   ],
   "source": [
    "Test['EDUC'].fillna(0, inplace=True)\n",
    "X3_test=Test[['CH06','EDAD2','EDUC']]\n",
    "X3_test=sm.add_constant(X3_test)"
   ]
  },
  {
   "cell_type": "code",
   "execution_count": 75,
   "id": "6cfda04a-9628-4448-a933-74b4aff36b53",
   "metadata": {},
   "outputs": [
    {
     "name": "stdout",
     "output_type": "stream",
     "text": [
      "23940168.027758703\n",
      "4892.869099798063\n",
      "3087.8200889782393\n"
     ]
    }
   ],
   "source": [
    "Y3_test_pred = results3.predict(X3_test)\n",
    "\n",
    "mse3_test = mean_squared_error(Y_test, Y3_test_pred)\n",
    "print(mse3_test)\n",
    "rmse3_test = np.sqrt(mean_squared_error(Y_test, Y3_test_pred))\n",
    "print(rmse3_test)\n",
    "mae3_test = mean_absolute_error(Y_test, Y3_test_pred)\n",
    "print(mae3_test)"
   ]
  },
  {
   "cell_type": "markdown",
   "id": "b888b395-0c5d-4fd3-8a6d-948c811cba47",
   "metadata": {},
   "source": [
    "## MODELO 4"
   ]
  },
  {
   "cell_type": "code",
   "execution_count": 78,
   "id": "66dd8e36-9621-4d61-9e0d-4fccaf2966c7",
   "metadata": {},
   "outputs": [],
   "source": [
    "Test.loc[(Test[\"CH04\"] == 2), \"mujer\"] = 1\n",
    "Test.loc[(Test[\"CH04\"] != 2), \"mujer\"] = 0\n",
    "\n",
    "X4_test=Test[['CH06','EDAD2','EDUC','mujer']]\n",
    "X4_test=sm.add_constant(X4_test)"
   ]
  },
  {
   "cell_type": "code",
   "execution_count": 80,
   "id": "f5fa27a5-8e86-4382-9473-2401d09f5a3d",
   "metadata": {},
   "outputs": [
    {
     "name": "stdout",
     "output_type": "stream",
     "text": [
      "23098062.38134764\n",
      "4806.044359069903\n",
      "3036.428780451687\n"
     ]
    }
   ],
   "source": [
    "Y4_test_pred = results4.predict(X4_test)\n",
    "\n",
    "mse4_test = mean_squared_error(Y_test, Y4_test_pred)\n",
    "print(mse4_test)\n",
    "rmse4_test = np.sqrt(mean_squared_error(Y_test, Y4_test_pred))\n",
    "print(rmse4_test)\n",
    "mae4_test = mean_absolute_error(Y_test, Y4_test_pred)\n",
    "print(mae4_test)"
   ]
  },
  {
   "cell_type": "markdown",
   "id": "14b959f1-4ace-4d92-b7d4-5f9dad0fcaff",
   "metadata": {},
   "source": [
    "## MODELO 5"
   ]
  },
  {
   "cell_type": "code",
   "execution_count": 83,
   "id": "91e2aeec-4cc9-41fe-a1d6-ec6c0b76ea8f",
   "metadata": {},
   "outputs": [
    {
     "name": "stderr",
     "output_type": "stream",
     "text": [
      "C:\\Users\\Computador\\AppData\\Local\\Temp\\ipykernel_21720\\2098911588.py:2: SettingWithCopyWarning: \n",
      "A value is trying to be set on a copy of a slice from a DataFrame\n",
      "\n",
      "See the caveats in the documentation: https://pandas.pydata.org/pandas-docs/stable/user_guide/indexing.html#returning-a-view-versus-a-copy\n",
      "  X5_test.fillna(0, inplace=True)\n"
     ]
    }
   ],
   "source": [
    "X5_test=Test[['CH06','EDAD2','EDUC','mujer','HORASTRAB', 'PET']]\n",
    "X5_test.fillna(0, inplace=True)\n",
    "\n",
    "X5_test=sm.add_constant(X5_test)"
   ]
  },
  {
   "cell_type": "code",
   "execution_count": 85,
   "id": "bbe7eba0-b80d-4406-970c-b036d223b74f",
   "metadata": {},
   "outputs": [],
   "source": [
    "Y5_test_pred = results5.predict(X5_test)"
   ]
  },
  {
   "cell_type": "code",
   "execution_count": 87,
   "id": "bc59a9bf-46d0-4fdf-971a-ea629ca5fe71",
   "metadata": {},
   "outputs": [
    {
     "name": "stdout",
     "output_type": "stream",
     "text": [
      "19078535.512588605\n",
      "4367.89829467086\n",
      "2312.5868195670555\n"
     ]
    }
   ],
   "source": [
    "mse5_test = mean_squared_error(Y_test, Y5_test_pred)\n",
    "print(mse5_test)\n",
    "rmse5_test = np.sqrt(mean_squared_error(Y_test, Y5_test_pred))\n",
    "print(rmse5_test)\n",
    "mae5_test = mean_absolute_error(Y_test, Y5_test_pred)\n",
    "print(mae5_test)"
   ]
  },
  {
   "cell_type": "markdown",
   "id": "6764fd15-1b7b-4fa2-9329-3819538b1b7a",
   "metadata": {},
   "source": [
    "## Punto 4)"
   ]
  },
  {
   "cell_type": "code",
   "execution_count": 90,
   "id": "26b1a480-d388-43e7-8a67-a10ef126a8bc",
   "metadata": {},
   "outputs": [
    {
     "data": {
      "image/png": "[encoded data removed]",
      "text/plain": [
       "<Figure size 1000x600 with 1 Axes>"
      ]
     },
     "metadata": {},
     "output_type": "display_data"
    }
   ],
   "source": [
    "# Gráfico\n",
    "\n",
    "import matplotlib.pyplot as plt\n",
    "\n",
    "# Crear figura y ejes\n",
    "fig, ax = plt.subplots(figsize=(10, 6))\n",
    "\n",
    "# Gráfico de dispersión\n",
    "ax.scatter(Test['CH06'], Y5_test_pred, alpha=0.5, color='teal')\n",
    "\n",
    "# Etiquetas de los ejes\n",
    "ax.set_xlabel('Edad')\n",
    "ax.set_title('Predicción de salarios según edad (modelo 5)', pad=30)\n",
    "ax.grid(True)\n",
    "\n",
    "# Etiqueta del eje Y colocada arriba y horizontal\n",
    "ax.set_ylabel('Salario semanal predicho',\n",
    "              rotation=0,\n",
    "              labelpad=60,\n",
    "              horizontalalignment='left',\n",
    "              verticalalignment='bottom')\n",
    "\n",
    "# Coordenadas para moverla arriba del gráfico\n",
    "ax.yaxis.set_label_coords(-0.08, 1.02)\n",
    "ax.text(0.9, -0.1, \"figura 1\", transform=plt.gca().transAxes, fontstyle=\"italic\")\n",
    "plt.savefig(\"Figuras punto 4.png\", bbox_inches='tight', dpi=300)   #GUARDO EL PNG\n",
    "plt.show()\n",
    "\n"
   ]
  },
  {
   "cell_type": "markdown",
   "id": "904cfeaf-4f83-4690-82d2-7051a150e673",
   "metadata": {},
   "source": [
    "# C) Métodos de Clasificación y Performance"
   ]
  },
  {
   "cell_type": "markdown",
   "id": "7de36b0e-cdf7-4485-9427-f4fb1e9944c8",
   "metadata": {},
   "source": [
    "## Punto 5)"
   ]
  },
  {
   "cell_type": "code",
   "execution_count": 94,
   "id": "676803ba-acdc-4584-b74e-f84950d6fa51",
   "metadata": {},
   "outputs": [],
   "source": [
    "# Importo librerias\n",
    "from sklearn import datasets\n",
    "from sklearn.linear_model import LogisticRegression\n",
    "from sklearn.model_selection import train_test_split\n",
    "from sklearn.metrics import confusion_matrix\n",
    "from sklearn.metrics import accuracy_score, recall_score \n",
    "from sklearn.metrics import RocCurveDisplay\n",
    "from sklearn.neighbors import KNeighborsClassifier\n",
    "from sklearn.metrics import confusion_matrix\n",
    "from sklearn.metrics import accuracy_score, recall_score \n",
    "from sklearn.metrics import roc_curve\n",
    "from sklearn.metrics import roc_auc_score\n",
    "from sklearn.metrics import RocCurveDisplay"
   ]
  },
  {
   "cell_type": "code",
   "execution_count": 96,
   "id": "94464b84-9729-45f2-b493-f73e70b23236",
   "metadata": {},
   "outputs": [],
   "source": [
    "y_train=pd.concat([y04_train, y24_train], ignore_index=True)\n",
    "y_train=np.array(y_train)\n",
    "y_test=pd.concat([y04_test, y24_test], ignore_index=True)\n",
    "y_test=np.array(y_test)"
   ]
  },
  {
   "cell_type": "code",
   "execution_count": 98,
   "id": "afd6acc1-1daf-400c-bb68-3dd75f574000",
   "metadata": {
    "collapsed": true,
    "jupyter": {
     "outputs_hidden": true
    }
   },
   "outputs": [
    {
     "ename": "NameError",
     "evalue": "name 'X' is not defined",
     "output_type": "error",
     "traceback": [
      "\u001b[1;31m---------------------------------------------------------------------------\u001b[0m",
      "\u001b[1;31mNameError\u001b[0m                                 Traceback (most recent call last)",
      "Cell \u001b[1;32mIn[98], line 7\u001b[0m\n\u001b[0;32m      2\u001b[0m X_train\u001b[38;5;241m=\u001b[39mTraining[[\u001b[38;5;124m'\u001b[39m\u001b[38;5;124mCH06\u001b[39m\u001b[38;5;124m'\u001b[39m,\u001b[38;5;124m'\u001b[39m\u001b[38;5;124mEDUC\u001b[39m\u001b[38;5;124m'\u001b[39m,\u001b[38;5;124m'\u001b[39m\u001b[38;5;124mCH04\u001b[39m\u001b[38;5;124m'\u001b[39m, \u001b[38;5;124m'\u001b[39m\u001b[38;5;124mSALARIO_SEMANAL\u001b[39m\u001b[38;5;124m'\u001b[39m]]\n\u001b[0;32m      4\u001b[0m \u001b[38;5;66;03m# Estimo:\u001b[39;00m\n\u001b[0;32m      5\u001b[0m \n\u001b[0;32m      6\u001b[0m \u001b[38;5;66;03m# Ajustamos el clasificador con el metodo fit() \u001b[39;00m\n\u001b[1;32m----> 7\u001b[0m log_reg \u001b[38;5;241m=\u001b[39m LogisticRegression(penalty\u001b[38;5;241m=\u001b[39m\u001b[38;5;28;01mNone\u001b[39;00m)\u001b[38;5;241m.\u001b[39mfit(X, y_train)\n\u001b[0;32m      9\u001b[0m X_test\u001b[38;5;241m=\u001b[39mTest[[\u001b[38;5;124m'\u001b[39m\u001b[38;5;124mCH06\u001b[39m\u001b[38;5;124m'\u001b[39m,\u001b[38;5;124m'\u001b[39m\u001b[38;5;124mEDUC\u001b[39m\u001b[38;5;124m'\u001b[39m,\u001b[38;5;124m'\u001b[39m\u001b[38;5;124mCH04\u001b[39m\u001b[38;5;124m'\u001b[39m, \u001b[38;5;124m'\u001b[39m\u001b[38;5;124mSALARIO_SEMANAL\u001b[39m\u001b[38;5;124m'\u001b[39m]]\n\u001b[0;32m     10\u001b[0m \u001b[38;5;66;03m# con la muestra de testeo\u001b[39;00m\n",
      "\u001b[1;31mNameError\u001b[0m: name 'X' is not defined"
     ]
    }
   ],
   "source": [
    "# Primero agregamos la columna de 1s y hacemos el ajuste\n",
    "X_train=Training[['CH06','EDUC','CH04', 'SALARIO_SEMANAL']]\n",
    "\n",
    "# Estimo:\n",
    "\n",
    "# Ajustamos el clasificador con el metodo fit() \n",
    "log_reg = LogisticRegression(penalty=None).fit(X, y_train)\n",
    "\n",
    "X_test=Test[['CH06','EDUC','CH04', 'SALARIO_SEMANAL']]\n",
    "# con la muestra de testeo\n",
    "y_test_pred_score = log_reg.predict_proba(X_test)[:,1]\n",
    "y_test_pred_conf = (y_test_pred_score > 0.5).astype(int)\n",
    "y_test_pred=log_reg.predict(X_test)"
   ]
  },
  {
   "cell_type": "code",
   "execution_count": 104,
   "id": "55b7f3f4-12ba-4681-8444-4a514e82c912",
   "metadata": {
    "collapsed": true,
    "jupyter": {
     "outputs_hidden": true
    }
   },
   "outputs": [
    {
     "ename": "NameError",
     "evalue": "name 'y_test_pred' is not defined",
     "output_type": "error",
     "traceback": [
      "\u001b[1;31m---------------------------------------------------------------------------\u001b[0m",
      "\u001b[1;31mNameError\u001b[0m                                 Traceback (most recent call last)",
      "Cell \u001b[1;32mIn[104], line 2\u001b[0m\n\u001b[0;32m      1\u001b[0m \u001b[38;5;66;03m# Calculamos el accuracy de testeo: (tp + tn) / (p + n)\u001b[39;00m\n\u001b[1;32m----> 2\u001b[0m accuracy \u001b[38;5;241m=\u001b[39m accuracy_score(y_test, y_test_pred)\n\u001b[0;32m      3\u001b[0m \u001b[38;5;28mprint\u001b[39m(\u001b[38;5;124m'\u001b[39m\u001b[38;5;124mAccuracy Test: \u001b[39m\u001b[38;5;132;01m%f\u001b[39;00m\u001b[38;5;124m'\u001b[39m \u001b[38;5;241m%\u001b[39m accuracy)\n",
      "\u001b[1;31mNameError\u001b[0m: name 'y_test_pred' is not defined"
     ]
    }
   ],
   "source": [
    "# Calculamos el accuracy de testeo: (tp + tn) / (p + n)\n",
    "accuracy = accuracy_score(y_test, y_test_pred)\n",
    "print('Accuracy Test: %f' % accuracy)"
   ]
  },
  {
   "cell_type": "code",
   "execution_count": 106,
   "id": "51026f30-10f1-4f97-8475-e12cf64a7816",
   "metadata": {
    "collapsed": true,
    "jupyter": {
     "outputs_hidden": true
    }
   },
   "outputs": [
    {
     "ename": "NameError",
     "evalue": "name 'y_test_pred_conf' is not defined",
     "output_type": "error",
     "traceback": [
      "\u001b[1;31m---------------------------------------------------------------------------\u001b[0m",
      "\u001b[1;31mNameError\u001b[0m                                 Traceback (most recent call last)",
      "Cell \u001b[1;32mIn[106], line 2\u001b[0m\n\u001b[0;32m      1\u001b[0m \u001b[38;5;66;03m# Imprimo la matriz de confusión\u001b[39;00m\n\u001b[1;32m----> 2\u001b[0m \u001b[38;5;28mprint\u001b[39m(confusion_matrix(y_test, y_test_pred_conf))\n",
      "\u001b[1;31mNameError\u001b[0m: name 'y_test_pred_conf' is not defined"
     ]
    }
   ],
   "source": [
    "# Imprimo la matriz de confusión\n",
    "print(confusion_matrix(y_test, y_test_pred_conf))"
   ]
  },
  {
   "cell_type": "code",
   "execution_count": 108,
   "id": "496711b2-281d-4891-bf05-aa1aed81906d",
   "metadata": {
    "collapsed": true,
    "jupyter": {
     "outputs_hidden": true
    }
   },
   "outputs": [
    {
     "ename": "NameError",
     "evalue": "name 'y_test_pred_score' is not defined",
     "output_type": "error",
     "traceback": [
      "\u001b[1;31m---------------------------------------------------------------------------\u001b[0m",
      "\u001b[1;31mNameError\u001b[0m                                 Traceback (most recent call last)",
      "Cell \u001b[1;32mIn[108], line 2\u001b[0m\n\u001b[0;32m      1\u001b[0m \u001b[38;5;66;03m# Conformo los valores que utilizo para el grafico\u001b[39;00m\n\u001b[1;32m----> 2\u001b[0m fpr, tpr, thresholds \u001b[38;5;241m=\u001b[39m roc_curve(y_test, y_test_pred_score)\n\u001b[0;32m      3\u001b[0m \u001b[38;5;66;03m# Area under curve\u001b[39;00m\n\u001b[0;32m      4\u001b[0m auc \u001b[38;5;241m=\u001b[39m roc_auc_score(y_test, y_test_pred) \n",
      "\u001b[1;31mNameError\u001b[0m: name 'y_test_pred_score' is not defined"
     ]
    }
   ],
   "source": [
    "# Conformo los valores que utilizo para el grafico\n",
    "fpr, tpr, thresholds = roc_curve(y_test, y_test_pred_score)\n",
    "# Area under curve\n",
    "auc = roc_auc_score(y_test, y_test_pred) \n",
    "print('AUC: %.2f' % auc)\n"
   ]
  },
  {
   "cell_type": "code",
   "execution_count": 110,
   "id": "88138591-fc87-4fc0-b2ab-ad98aaadff49",
   "metadata": {
    "collapsed": true,
    "jupyter": {
     "outputs_hidden": true
    }
   },
   "outputs": [
    {
     "ename": "NameError",
     "evalue": "name 'fpr' is not defined",
     "output_type": "error",
     "traceback": [
      "\u001b[1;31m---------------------------------------------------------------------------\u001b[0m",
      "\u001b[1;31mNameError\u001b[0m                                 Traceback (most recent call last)",
      "Cell \u001b[1;32mIn[110], line 2\u001b[0m\n\u001b[0;32m      1\u001b[0m \u001b[38;5;66;03m# Gráfico\u001b[39;00m\n\u001b[1;32m----> 2\u001b[0m display \u001b[38;5;241m=\u001b[39m RocCurveDisplay(fpr\u001b[38;5;241m=\u001b[39mfpr, tpr\u001b[38;5;241m=\u001b[39mtpr, roc_auc\u001b[38;5;241m=\u001b[39mauc, estimator_name\u001b[38;5;241m=\u001b[39m\u001b[38;5;124m'\u001b[39m\u001b[38;5;124mLogit\u001b[39m\u001b[38;5;124m'\u001b[39m)\n\u001b[0;32m      3\u001b[0m display\u001b[38;5;241m.\u001b[39mplot()  \n\u001b[0;32m      4\u001b[0m plt\u001b[38;5;241m.\u001b[39mplot([\u001b[38;5;241m0\u001b[39m, \u001b[38;5;241m1\u001b[39m], [\u001b[38;5;241m0\u001b[39m, \u001b[38;5;241m1\u001b[39m], color\u001b[38;5;241m=\u001b[39m\u001b[38;5;124m'\u001b[39m\u001b[38;5;124mred\u001b[39m\u001b[38;5;124m'\u001b[39m, linestyle\u001b[38;5;241m=\u001b[39m\u001b[38;5;124m'\u001b[39m\u001b[38;5;124m--\u001b[39m\u001b[38;5;124m'\u001b[39m)\n",
      "\u001b[1;31mNameError\u001b[0m: name 'fpr' is not defined"
     ]
    }
   ],
   "source": [
    "# Gráfico\n",
    "display = RocCurveDisplay(fpr=fpr, tpr=tpr, roc_auc=auc, estimator_name='Logit')\n",
    "display.plot()  \n",
    "plt.plot([0, 1], [0, 1], color='red', linestyle='--')\n",
    "plt.title(\"Curva ROC con el modelo Logit\")\n",
    "\n",
    "plt.savefig(\"Figuras punto 5.1.logit.png\", bbox_inches='tight', dpi=300)   #GUARDO EL PNG\n",
    "plt.show() "
   ]
  },
  {
   "cell_type": "markdown",
   "id": "37547cf3-fb42-4e4c-b575-d4493bb7d351",
   "metadata": {},
   "source": [
    "### KNN"
   ]
  },
  {
   "cell_type": "code",
   "execution_count": 376,
   "id": "e36160e7-6b6b-48d0-9804-3d9249c47cac",
   "metadata": {},
   "outputs": [
    {
     "data": {
      "text/html": [
       "<style>#sk-container-id-4 {\n",
       "  /* Definition of color scheme common for light and dark mode */\n",
       "  --sklearn-color-text: black;\n",
       "  --sklearn-color-line: gray;\n",
       "  /* Definition of color scheme for unfitted estimators */\n",
       "  --sklearn-color-unfitted-level-0: #fff5e6;\n",
       "  --sklearn-color-unfitted-level-1: #f6e4d2;\n",
       "  --sklearn-color-unfitted-level-2: #ffe0b3;\n",
       "  --sklearn-color-unfitted-level-3: chocolate;\n",
       "  /* Definition of color scheme for fitted estimators */\n",
       "  --sklearn-color-fitted-level-0: #f0f8ff;\n",
       "  --sklearn-color-fitted-level-1: #d4ebff;\n",
       "  --sklearn-color-fitted-level-2: #b3dbfd;\n",
       "  --sklearn-color-fitted-level-3: cornflowerblue;\n",
       "\n",
       "  /* Specific color for light theme */\n",
       "  --sklearn-color-text-on-default-background: var(--sg-text-color, var(--theme-code-foreground, var(--jp-content-font-color1, black)));\n",
       "  --sklearn-color-background: var(--sg-background-color, var(--theme-background, var(--jp-layout-color0, white)));\n",
       "  --sklearn-color-border-box: var(--sg-text-color, var(--theme-code-foreground, var(--jp-content-font-color1, black)));\n",
       "  --sklearn-color-icon: #696969;\n",
       "\n",
       "  @media (prefers-color-scheme: dark) {\n",
       "    /* Redefinition of color scheme for dark theme */\n",
       "    --sklearn-color-text-on-default-background: var(--sg-text-color, var(--theme-code-foreground, var(--jp-content-font-color1, white)));\n",
       "    --sklearn-color-background: var(--sg-background-color, var(--theme-background, var(--jp-layout-color0, #111)));\n",
       "    --sklearn-color-border-box: var(--sg-text-color, var(--theme-code-foreground, var(--jp-content-font-color1, white)));\n",
       "    --sklearn-color-icon: #878787;\n",
       "  }\n",
       "}\n",
       "\n",
       "#sk-container-id-4 {\n",
       "  color: var(--sklearn-color-text);\n",
       "}\n",
       "\n",
       "#sk-container-id-4 pre {\n",
       "  padding: 0;\n",
       "}\n",
       "\n",
       "#sk-container-id-4 input.sk-hidden--visually {\n",
       "  border: 0;\n",
       "  clip: rect(1px 1px 1px 1px);\n",
       "  clip: rect(1px, 1px, 1px, 1px);\n",
       "  height: 1px;\n",
       "  margin: -1px;\n",
       "  overflow: hidden;\n",
       "  padding: 0;\n",
       "  position: absolute;\n",
       "  width: 1px;\n",
       "}\n",
       "\n",
       "#sk-container-id-4 div.sk-dashed-wrapped {\n",
       "  border: 1px dashed var(--sklearn-color-line);\n",
       "  margin: 0 0.4em 0.5em 0.4em;\n",
       "  box-sizing: border-box;\n",
       "  padding-bottom: 0.4em;\n",
       "  background-color: var(--sklearn-color-background);\n",
       "}\n",
       "\n",
       "#sk-container-id-4 div.sk-container {\n",
       "  /* jupyter's `normalize.less` sets `[hidden] { display: none; }`\n",
       "     but bootstrap.min.css set `[hidden] { display: none !important; }`\n",
       "     so we also need the `!important` here to be able to override the\n",
       "     default hidden behavior on the sphinx rendered scikit-learn.org.\n",
       "     See: https://github.com/scikit-learn/scikit-learn/issues/21755 */\n",
       "  display: inline-block !important;\n",
       "  position: relative;\n",
       "}\n",
       "\n",
       "#sk-container-id-4 div.sk-text-repr-fallback {\n",
       "  display: none;\n",
       "}\n",
       "\n",
       "div.sk-parallel-item,\n",
       "div.sk-serial,\n",
       "div.sk-item {\n",
       "  /* draw centered vertical line to link estimators */\n",
       "  background-image: linear-gradient(var(--sklearn-color-text-on-default-background), var(--sklearn-color-text-on-default-background));\n",
       "  background-size: 2px 100%;\n",
       "  background-repeat: no-repeat;\n",
       "  background-position: center center;\n",
       "}\n",
       "\n",
       "/* Parallel-specific style estimator block */\n",
       "\n",
       "#sk-container-id-4 div.sk-parallel-item::after {\n",
       "  content: \"\";\n",
       "  width: 100%;\n",
       "  border-bottom: 2px solid var(--sklearn-color-text-on-default-background);\n",
       "  flex-grow: 1;\n",
       "}\n",
       "\n",
       "#sk-container-id-4 div.sk-parallel {\n",
       "  display: flex;\n",
       "  align-items: stretch;\n",
       "  justify-content: center;\n",
       "  background-color: var(--sklearn-color-background);\n",
       "  position: relative;\n",
       "}\n",
       "\n",
       "#sk-container-id-4 div.sk-parallel-item {\n",
       "  display: flex;\n",
       "  flex-direction: column;\n",
       "}\n",
       "\n",
       "#sk-container-id-4 div.sk-parallel-item:first-child::after {\n",
       "  align-self: flex-end;\n",
       "  width: 50%;\n",
       "}\n",
       "\n",
       "#sk-container-id-4 div.sk-parallel-item:last-child::after {\n",
       "  align-self: flex-start;\n",
       "  width: 50%;\n",
       "}\n",
       "\n",
       "#sk-container-id-4 div.sk-parallel-item:only-child::after {\n",
       "  width: 0;\n",
       "}\n",
       "\n",
       "/* Serial-specific style estimator block */\n",
       "\n",
       "#sk-container-id-4 div.sk-serial {\n",
       "  display: flex;\n",
       "  flex-direction: column;\n",
       "  align-items: center;\n",
       "  background-color: var(--sklearn-color-background);\n",
       "  padding-right: 1em;\n",
       "  padding-left: 1em;\n",
       "}\n",
       "\n",
       "\n",
       "/* Toggleable style: style used for estimator/Pipeline/ColumnTransformer box that is\n",
       "clickable and can be expanded/collapsed.\n",
       "- Pipeline and ColumnTransformer use this feature and define the default style\n",
       "- Estimators will overwrite some part of the style using the `sk-estimator` class\n",
       "*/\n",
       "\n",
       "/* Pipeline and ColumnTransformer style (default) */\n",
       "\n",
       "#sk-container-id-4 div.sk-toggleable {\n",
       "  /* Default theme specific background. It is overwritten whether we have a\n",
       "  specific estimator or a Pipeline/ColumnTransformer */\n",
       "  background-color: var(--sklearn-color-background);\n",
       "}\n",
       "\n",
       "/* Toggleable label */\n",
       "#sk-container-id-4 label.sk-toggleable__label {\n",
       "  cursor: pointer;\n",
       "  display: block;\n",
       "  width: 100%;\n",
       "  margin-bottom: 0;\n",
       "  padding: 0.5em;\n",
       "  box-sizing: border-box;\n",
       "  text-align: center;\n",
       "}\n",
       "\n",
       "#sk-container-id-4 label.sk-toggleable__label-arrow:before {\n",
       "  /* Arrow on the left of the label */\n",
       "  content: \"▸\";\n",
       "  float: left;\n",
       "  margin-right: 0.25em;\n",
       "  color: var(--sklearn-color-icon);\n",
       "}\n",
       "\n",
       "#sk-container-id-4 label.sk-toggleable__label-arrow:hover:before {\n",
       "  color: var(--sklearn-color-text);\n",
       "}\n",
       "\n",
       "/* Toggleable content - dropdown */\n",
       "\n",
       "#sk-container-id-4 div.sk-toggleable__content {\n",
       "  max-height: 0;\n",
       "  max-width: 0;\n",
       "  overflow: hidden;\n",
       "  text-align: left;\n",
       "  /* unfitted */\n",
       "  background-color: var(--sklearn-color-unfitted-level-0);\n",
       "}\n",
       "\n",
       "#sk-container-id-4 div.sk-toggleable__content.fitted {\n",
       "  /* fitted */\n",
       "  background-color: var(--sklearn-color-fitted-level-0);\n",
       "}\n",
       "\n",
       "#sk-container-id-4 div.sk-toggleable__content pre {\n",
       "  margin: 0.2em;\n",
       "  border-radius: 0.25em;\n",
       "  color: var(--sklearn-color-text);\n",
       "  /* unfitted */\n",
       "  background-color: var(--sklearn-color-unfitted-level-0);\n",
       "}\n",
       "\n",
       "#sk-container-id-4 div.sk-toggleable__content.fitted pre {\n",
       "  /* unfitted */\n",
       "  background-color: var(--sklearn-color-fitted-level-0);\n",
       "}\n",
       "\n",
       "#sk-container-id-4 input.sk-toggleable__control:checked~div.sk-toggleable__content {\n",
       "  /* Expand drop-down */\n",
       "  max-height: 200px;\n",
       "  max-width: 100%;\n",
       "  overflow: auto;\n",
       "}\n",
       "\n",
       "#sk-container-id-4 input.sk-toggleable__control:checked~label.sk-toggleable__label-arrow:before {\n",
       "  content: \"▾\";\n",
       "}\n",
       "\n",
       "/* Pipeline/ColumnTransformer-specific style */\n",
       "\n",
       "#sk-container-id-4 div.sk-label input.sk-toggleable__control:checked~label.sk-toggleable__label {\n",
       "  color: var(--sklearn-color-text);\n",
       "  background-color: var(--sklearn-color-unfitted-level-2);\n",
       "}\n",
       "\n",
       "#sk-container-id-4 div.sk-label.fitted input.sk-toggleable__control:checked~label.sk-toggleable__label {\n",
       "  background-color: var(--sklearn-color-fitted-level-2);\n",
       "}\n",
       "\n",
       "/* Estimator-specific style */\n",
       "\n",
       "/* Colorize estimator box */\n",
       "#sk-container-id-4 div.sk-estimator input.sk-toggleable__control:checked~label.sk-toggleable__label {\n",
       "  /* unfitted */\n",
       "  background-color: var(--sklearn-color-unfitted-level-2);\n",
       "}\n",
       "\n",
       "#sk-container-id-4 div.sk-estimator.fitted input.sk-toggleable__control:checked~label.sk-toggleable__label {\n",
       "  /* fitted */\n",
       "  background-color: var(--sklearn-color-fitted-level-2);\n",
       "}\n",
       "\n",
       "#sk-container-id-4 div.sk-label label.sk-toggleable__label,\n",
       "#sk-container-id-4 div.sk-label label {\n",
       "  /* The background is the default theme color */\n",
       "  color: var(--sklearn-color-text-on-default-background);\n",
       "}\n",
       "\n",
       "/* On hover, darken the color of the background */\n",
       "#sk-container-id-4 div.sk-label:hover label.sk-toggleable__label {\n",
       "  color: var(--sklearn-color-text);\n",
       "  background-color: var(--sklearn-color-unfitted-level-2);\n",
       "}\n",
       "\n",
       "/* Label box, darken color on hover, fitted */\n",
       "#sk-container-id-4 div.sk-label.fitted:hover label.sk-toggleable__label.fitted {\n",
       "  color: var(--sklearn-color-text);\n",
       "  background-color: var(--sklearn-color-fitted-level-2);\n",
       "}\n",
       "\n",
       "/* Estimator label */\n",
       "\n",
       "#sk-container-id-4 div.sk-label label {\n",
       "  font-family: monospace;\n",
       "  font-weight: bold;\n",
       "  display: inline-block;\n",
       "  line-height: 1.2em;\n",
       "}\n",
       "\n",
       "#sk-container-id-4 div.sk-label-container {\n",
       "  text-align: center;\n",
       "}\n",
       "\n",
       "/* Estimator-specific */\n",
       "#sk-container-id-4 div.sk-estimator {\n",
       "  font-family: monospace;\n",
       "  border: 1px dotted var(--sklearn-color-border-box);\n",
       "  border-radius: 0.25em;\n",
       "  box-sizing: border-box;\n",
       "  margin-bottom: 0.5em;\n",
       "  /* unfitted */\n",
       "  background-color: var(--sklearn-color-unfitted-level-0);\n",
       "}\n",
       "\n",
       "#sk-container-id-4 div.sk-estimator.fitted {\n",
       "  /* fitted */\n",
       "  background-color: var(--sklearn-color-fitted-level-0);\n",
       "}\n",
       "\n",
       "/* on hover */\n",
       "#sk-container-id-4 div.sk-estimator:hover {\n",
       "  /* unfitted */\n",
       "  background-color: var(--sklearn-color-unfitted-level-2);\n",
       "}\n",
       "\n",
       "#sk-container-id-4 div.sk-estimator.fitted:hover {\n",
       "  /* fitted */\n",
       "  background-color: var(--sklearn-color-fitted-level-2);\n",
       "}\n",
       "\n",
       "/* Specification for estimator info (e.g. \"i\" and \"?\") */\n",
       "\n",
       "/* Common style for \"i\" and \"?\" */\n",
       "\n",
       ".sk-estimator-doc-link,\n",
       "a:link.sk-estimator-doc-link,\n",
       "a:visited.sk-estimator-doc-link {\n",
       "  float: right;\n",
       "  font-size: smaller;\n",
       "  line-height: 1em;\n",
       "  font-family: monospace;\n",
       "  background-color: var(--sklearn-color-background);\n",
       "  border-radius: 1em;\n",
       "  height: 1em;\n",
       "  width: 1em;\n",
       "  text-decoration: none !important;\n",
       "  margin-left: 1ex;\n",
       "  /* unfitted */\n",
       "  border: var(--sklearn-color-unfitted-level-1) 1pt solid;\n",
       "  color: var(--sklearn-color-unfitted-level-1);\n",
       "}\n",
       "\n",
       ".sk-estimator-doc-link.fitted,\n",
       "a:link.sk-estimator-doc-link.fitted,\n",
       "a:visited.sk-estimator-doc-link.fitted {\n",
       "  /* fitted */\n",
       "  border: var(--sklearn-color-fitted-level-1) 1pt solid;\n",
       "  color: var(--sklearn-color-fitted-level-1);\n",
       "}\n",
       "\n",
       "/* On hover */\n",
       "div.sk-estimator:hover .sk-estimator-doc-link:hover,\n",
       ".sk-estimator-doc-link:hover,\n",
       "div.sk-label-container:hover .sk-estimator-doc-link:hover,\n",
       ".sk-estimator-doc-link:hover {\n",
       "  /* unfitted */\n",
       "  background-color: var(--sklearn-color-unfitted-level-3);\n",
       "  color: var(--sklearn-color-background);\n",
       "  text-decoration: none;\n",
       "}\n",
       "\n",
       "div.sk-estimator.fitted:hover .sk-estimator-doc-link.fitted:hover,\n",
       ".sk-estimator-doc-link.fitted:hover,\n",
       "div.sk-label-container:hover .sk-estimator-doc-link.fitted:hover,\n",
       ".sk-estimator-doc-link.fitted:hover {\n",
       "  /* fitted */\n",
       "  background-color: var(--sklearn-color-fitted-level-3);\n",
       "  color: var(--sklearn-color-background);\n",
       "  text-decoration: none;\n",
       "}\n",
       "\n",
       "/* Span, style for the box shown on hovering the info icon */\n",
       ".sk-estimator-doc-link span {\n",
       "  display: none;\n",
       "  z-index: 9999;\n",
       "  position: relative;\n",
       "  font-weight: normal;\n",
       "  right: .2ex;\n",
       "  padding: .5ex;\n",
       "  margin: .5ex;\n",
       "  width: min-content;\n",
       "  min-width: 20ex;\n",
       "  max-width: 50ex;\n",
       "  color: var(--sklearn-color-text);\n",
       "  box-shadow: 2pt 2pt 4pt #999;\n",
       "  /* unfitted */\n",
       "  background: var(--sklearn-color-unfitted-level-0);\n",
       "  border: .5pt solid var(--sklearn-color-unfitted-level-3);\n",
       "}\n",
       "\n",
       ".sk-estimator-doc-link.fitted span {\n",
       "  /* fitted */\n",
       "  background: var(--sklearn-color-fitted-level-0);\n",
       "  border: var(--sklearn-color-fitted-level-3);\n",
       "}\n",
       "\n",
       ".sk-estimator-doc-link:hover span {\n",
       "  display: block;\n",
       "}\n",
       "\n",
       "/* \"?\"-specific style due to the `<a>` HTML tag */\n",
       "\n",
       "#sk-container-id-4 a.estimator_doc_link {\n",
       "  float: right;\n",
       "  font-size: 1rem;\n",
       "  line-height: 1em;\n",
       "  font-family: monospace;\n",
       "  background-color: var(--sklearn-color-background);\n",
       "  border-radius: 1rem;\n",
       "  height: 1rem;\n",
       "  width: 1rem;\n",
       "  text-decoration: none;\n",
       "  /* unfitted */\n",
       "  color: var(--sklearn-color-unfitted-level-1);\n",
       "  border: var(--sklearn-color-unfitted-level-1) 1pt solid;\n",
       "}\n",
       "\n",
       "#sk-container-id-4 a.estimator_doc_link.fitted {\n",
       "  /* fitted */\n",
       "  border: var(--sklearn-color-fitted-level-1) 1pt solid;\n",
       "  color: var(--sklearn-color-fitted-level-1);\n",
       "}\n",
       "\n",
       "/* On hover */\n",
       "#sk-container-id-4 a.estimator_doc_link:hover {\n",
       "  /* unfitted */\n",
       "  background-color: var(--sklearn-color-unfitted-level-3);\n",
       "  color: var(--sklearn-color-background);\n",
       "  text-decoration: none;\n",
       "}\n",
       "\n",
       "#sk-container-id-4 a.estimator_doc_link.fitted:hover {\n",
       "  /* fitted */\n",
       "  background-color: var(--sklearn-color-fitted-level-3);\n",
       "}\n",
       "</style><div id=\"sk-container-id-4\" class=\"sk-top-container\"><div class=\"sk-text-repr-fallback\"><pre>KNeighborsClassifier()</pre><b>In a Jupyter environment, please rerun this cell to show the HTML representation or trust the notebook. <br />On GitHub, the HTML representation is unable to render, please try loading this page with nbviewer.org.</b></div><div class=\"sk-container\" hidden><div class=\"sk-item\"><div class=\"sk-estimator fitted sk-toggleable\"><input class=\"sk-toggleable__control sk-hidden--visually\" id=\"sk-estimator-id-4\" type=\"checkbox\" checked><label for=\"sk-estimator-id-4\" class=\"sk-toggleable__label fitted sk-toggleable__label-arrow fitted\">&nbsp;&nbsp;KNeighborsClassifier<a class=\"sk-estimator-doc-link fitted\" rel=\"noreferrer\" target=\"_blank\" href=\"https://scikit-learn.org/1.5/modules/generated/sklearn.neighbors.KNeighborsClassifier.html\">?<span>Documentation for KNeighborsClassifier</span></a><span class=\"sk-estimator-doc-link fitted\">i<span>Fitted</span></span></label><div class=\"sk-toggleable__content fitted\"><pre>KNeighborsClassifier()</pre></div> </div></div></div></div>"
      ],
      "text/plain": [
       "KNeighborsClassifier()"
      ]
     },
     "execution_count": 376,
     "metadata": {},
     "output_type": "execute_result"
    }
   ],
   "source": [
    "\n",
    "knn = KNeighborsClassifier(n_neighbors=5)\n",
    "knn.fit(X_train, y_train)"
   ]
  },
  {
   "cell_type": "code",
   "execution_count": 378,
   "id": "ee56f3a3-8eae-4152-b211-5f1758e75d19",
   "metadata": {},
   "outputs": [
    {
     "name": "stdout",
     "output_type": "stream",
     "text": [
      "La exactitud del modelo es: 0.934\n",
      "col_0     0    1\n",
      "row_0           \n",
      "0      8127  184\n",
      "1       392   59\n"
     ]
    }
   ],
   "source": [
    "y_test_pred_knn_score = knn.predict_proba(X_test)[:,1]\n",
    "\n",
    "# Clasificación con p > 0.5\n",
    "y_test_pred_knn_conf = (y_test_pred_knn_score > 0.5).astype(int)\n",
    "\n",
    "y_test_pred_knn = knn.predict(X_test)\n",
    "\n",
    "accuracy_knn = accuracy_score(y_test, y_test_pred_knn)\n",
    "print(\"La exactitud del modelo es: %.3f\" %accuracy_knn)  \n",
    "\n",
    "# Matriz de confusion\n",
    "print(pd.crosstab(index=y_test, columns=y_test_pred_knn_conf))\n",
    "\n"
   ]
  },
  {
   "cell_type": "code",
   "execution_count": 399,
   "id": "61999189-060c-4940-863f-b16da53d4870",
   "metadata": {},
   "outputs": [
    {
     "name": "stdout",
     "output_type": "stream",
     "text": [
      "AUC: 0.55\n",
      "\n"
     ]
    },
    {
     "data": {
      "image/png": "[encoded data removed]",
      "text/plain": [
       "<Figure size 640x480 with 1 Axes>"
      ]
     },
     "metadata": {},
     "output_type": "display_data"
    }
   ],
   "source": [
    "fpr, tpr, thresholds = roc_curve(y_test, y_test_pred_knn_score)\n",
    "\n",
    "auc = roc_auc_score(y_test, y_test_pred_knn) \n",
    "print('AUC: %.2f' % auc)\n",
    "print()\n",
    "display = RocCurveDisplay(fpr=fpr, tpr=tpr, roc_auc=auc, estimator_name='KNN/')\n",
    "display.plot()  \n",
    "plt.plot([0, 1], [0, 1], color='red', linestyle='--')\n",
    "plt.title(\"Curva ROC con el modelo KNN\")\n",
    "plt.savefig(\"Figuras punto 5.2.KNN.png\", bbox_inches='tight', dpi=300)   #GUARDO EL PNG\n",
    "plt.show() "
   ]
  },
  {
   "cell_type": "markdown",
   "id": "272d5f38-396b-47bb-b873-ee0adcf62f54",
   "metadata": {},
   "source": [
    "# Punto 6)"
   ]
  },
  {
   "cell_type": "code",
   "execution_count": 383,
   "id": "feeea3d1-d82f-43dc-ad2f-e71725e73739",
   "metadata": {},
   "outputs": [],
   "source": [
    "X6=norespondieron[['CH06','EDUC','CH04', 'SALARIO_SEMANAL']].fillna(0)\n",
    "y6=norespondieron['desocupado']\n",
    "y6=np.array(y6)"
   ]
  },
  {
   "cell_type": "code",
   "execution_count": 285,
   "id": "29d2c0e6-61a8-4eeb-a312-8dcb742e3f7f",
   "metadata": {},
   "outputs": [],
   "source": [
    "# Utilizo la regresión logit, pues su accuracy de testeo es más alta\n",
    "y6_pred= log_reg.predict(X6)"
   ]
  },
  {
   "cell_type": "code",
   "execution_count": 293,
   "id": "8d60a570-77de-4368-af0c-de44c2b688bb",
   "metadata": {},
   "outputs": [
    {
     "name": "stdout",
     "output_type": "stream",
     "text": [
      "La cantidad de desocupados predecidos son: 0\n"
     ]
    }
   ],
   "source": [
    "print('La cantidad de desocupados predecidos son:', y6_pred.sum())"
   ]
  },
  {
   "cell_type": "code",
   "execution_count": 301,
   "id": "db8a6a89-564b-4043-9c40-663d8e2d4659",
   "metadata": {},
   "outputs": [
    {
     "name": "stdout",
     "output_type": "stream",
     "text": [
      "La cantidad de desocupados encuestados son: 0\n"
     ]
    }
   ],
   "source": [
    "print('La cantidad de desocupados encuestados son:', y6.sum())"
   ]
  },
  {
   "cell_type": "code",
   "execution_count": 305,
   "id": "d19996eb-35d1-4015-84c0-8bd93ef7875a",
   "metadata": {},
   "outputs": [
    {
     "name": "stdout",
     "output_type": "stream",
     "text": [
      "La proporción de las personas que no respondieron pero son y se predijeron como desocupadas es de 1\n"
     ]
    }
   ],
   "source": [
    "print('La proporción de las personas que no respondieron pero son y se predijeron como desocupadas es de 1' )"
   ]
  }
 ],
 "metadata": {
  "kernelspec": {
   "display_name": "Python [conda env:base] *",
   "language": "python",
   "name": "conda-base-py"
  },
  "language_info": {
   "codemirror_mode": {
    "name": "ipython",
    "version": 3
   },
   "file_extension": ".py",
   "mimetype": "text/x-python",
   "name": "python",
   "nbconvert_exporter": "python",
   "pygments_lexer": "ipython3",
   "version": "3.12.7"
  }
 },
 "nbformat": 4,
 "nbformat_minor": 5
}
